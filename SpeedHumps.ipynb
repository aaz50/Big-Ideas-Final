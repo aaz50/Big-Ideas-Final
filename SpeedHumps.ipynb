{
 "cells": [
  {
   "cell_type": "markdown",
   "id": "bc776c5c-5af1-4a86-a73a-e4ff3a1e3b86",
   "metadata": {},
   "source": [
    "## Using speed humps to as a metric \n",
    "\n",
    "The Pittsburgh speed hump location dataset can give us information about the amount of speed humps in each neighborhood. This information can be used to figure out which neighborhood is best for avoiding natural disasters. This is because the more speed humps in a area means traffic flows more slowly, thus making it harder to escape natural disasters.  "
   ]
  },
  {
   "cell_type": "markdown",
   "id": "84bee794-c7c7-4ab1-80a8-915ae93e0cea",
   "metadata": {},
   "source": [
    "### Analysis of the speed humps dataset \n",
    "\n",
    "We first start by loading the dataset and getting everything set up for data analysis. "
   ]
  },
  {
   "cell_type": "code",
   "execution_count": 157,
   "id": "e6424daf-7fbd-42d1-a3e2-2952b23044bf",
   "metadata": {},
   "outputs": [],
   "source": [
    "import pandas as pd \n",
    "%matplotlib inline\n",
    "import matplotlib.pyplot as plt \n",
    "humps = pd.read_csv(\"https://data.wprdc.org/datastore/dump/37b2ac41-ae8e-4de1-8405-157e05dc3640\") \n"
   ]
  },
  {
   "cell_type": "markdown",
   "id": "cea82349-4813-4bfd-9a9f-fbda3b8eb096",
   "metadata": {},
   "source": [
    "After loading and getting everything set up, let's take a glance at what we're working with "
   ]
  },
  {
   "cell_type": "code",
   "execution_count": 160,
   "id": "c09afa18-fe58-4d5e-a56f-c78e2135d00b",
   "metadata": {},
   "outputs": [
    {
     "data": {
      "text/html": [
       "<div>\n",
       "<style scoped>\n",
       "    .dataframe tbody tr th:only-of-type {\n",
       "        vertical-align: middle;\n",
       "    }\n",
       "\n",
       "    .dataframe tbody tr th {\n",
       "        vertical-align: top;\n",
       "    }\n",
       "\n",
       "    .dataframe thead th {\n",
       "        text-align: right;\n",
       "    }\n",
       "</style>\n",
       "<table border=\"1\" class=\"dataframe\">\n",
       "  <thead>\n",
       "    <tr style=\"text-align: right;\">\n",
       "      <th></th>\n",
       "      <th>_id</th>\n",
       "      <th>id</th>\n",
       "      <th>hump_id</th>\n",
       "      <th>locator_address_number</th>\n",
       "      <th>locator_street</th>\n",
       "      <th>pavement</th>\n",
       "      <th>speed_hump_material</th>\n",
       "      <th>neighborhood</th>\n",
       "      <th>council_district</th>\n",
       "      <th>ward</th>\n",
       "      <th>tract</th>\n",
       "      <th>public_works_division</th>\n",
       "      <th>pli_division</th>\n",
       "      <th>police_zone</th>\n",
       "      <th>fire_zone</th>\n",
       "      <th>latitude</th>\n",
       "      <th>longitude</th>\n",
       "    </tr>\n",
       "  </thead>\n",
       "  <tbody>\n",
       "    <tr>\n",
       "      <th>0</th>\n",
       "      <td>1</td>\n",
       "      <td>430808404</td>\n",
       "      <td>1</td>\n",
       "      <td>4337.0</td>\n",
       "      <td>Saline St</td>\n",
       "      <td>9257</td>\n",
       "      <td>Asphalt</td>\n",
       "      <td>Squirrel Hill South</td>\n",
       "      <td>5</td>\n",
       "      <td>14</td>\n",
       "      <td>42003141400</td>\n",
       "      <td>3</td>\n",
       "      <td>14</td>\n",
       "      <td>4</td>\n",
       "      <td>2-15</td>\n",
       "      <td>40.419835</td>\n",
       "      <td>-79.926062</td>\n",
       "    </tr>\n",
       "    <tr>\n",
       "      <th>1</th>\n",
       "      <td>34</td>\n",
       "      <td>1520886592</td>\n",
       "      <td>2</td>\n",
       "      <td>NaN</td>\n",
       "      <td>Summerset Dr</td>\n",
       "      <td>15346</td>\n",
       "      <td>NaN</td>\n",
       "      <td>Squirrel Hill South</td>\n",
       "      <td>5</td>\n",
       "      <td>14</td>\n",
       "      <td>42003141400</td>\n",
       "      <td>3</td>\n",
       "      <td>14</td>\n",
       "      <td>4</td>\n",
       "      <td>2-20</td>\n",
       "      <td>40.425040</td>\n",
       "      <td>-79.912040</td>\n",
       "    </tr>\n",
       "    <tr>\n",
       "      <th>2</th>\n",
       "      <td>67</td>\n",
       "      <td>858537521</td>\n",
       "      <td>3</td>\n",
       "      <td>511.0</td>\n",
       "      <td>Gold Way</td>\n",
       "      <td>1755</td>\n",
       "      <td>Asphalt</td>\n",
       "      <td>North Oakland</td>\n",
       "      <td>6</td>\n",
       "      <td>5</td>\n",
       "      <td>42003562000</td>\n",
       "      <td>3</td>\n",
       "      <td>5</td>\n",
       "      <td>4</td>\n",
       "      <td>2-23</td>\n",
       "      <td>40.456746</td>\n",
       "      <td>-79.954521</td>\n",
       "    </tr>\n",
       "    <tr>\n",
       "      <th>3</th>\n",
       "      <td>68</td>\n",
       "      <td>297775878</td>\n",
       "      <td>4</td>\n",
       "      <td>547.0</td>\n",
       "      <td>Gold Way</td>\n",
       "      <td>1755</td>\n",
       "      <td>Asphalt</td>\n",
       "      <td>North Oakland</td>\n",
       "      <td>6</td>\n",
       "      <td>5</td>\n",
       "      <td>42003562000</td>\n",
       "      <td>3</td>\n",
       "      <td>5</td>\n",
       "      <td>4</td>\n",
       "      <td>2-23</td>\n",
       "      <td>40.457333</td>\n",
       "      <td>-79.954899</td>\n",
       "    </tr>\n",
       "    <tr>\n",
       "      <th>4</th>\n",
       "      <td>69</td>\n",
       "      <td>1061197751</td>\n",
       "      <td>5</td>\n",
       "      <td>593.0</td>\n",
       "      <td>Gold Way</td>\n",
       "      <td>1755</td>\n",
       "      <td>Asphalt</td>\n",
       "      <td>North Oakland</td>\n",
       "      <td>6</td>\n",
       "      <td>5</td>\n",
       "      <td>42003562000</td>\n",
       "      <td>3</td>\n",
       "      <td>5</td>\n",
       "      <td>4</td>\n",
       "      <td>2-23</td>\n",
       "      <td>40.458061</td>\n",
       "      <td>-79.955355</td>\n",
       "    </tr>\n",
       "  </tbody>\n",
       "</table>\n",
       "</div>"
      ],
      "text/plain": [
       "   _id          id  hump_id  locator_address_number locator_street  pavement  \\\n",
       "0    1   430808404        1                  4337.0      Saline St      9257   \n",
       "1   34  1520886592        2                     NaN   Summerset Dr     15346   \n",
       "2   67   858537521        3                   511.0       Gold Way      1755   \n",
       "3   68   297775878        4                   547.0       Gold Way      1755   \n",
       "4   69  1061197751        5                   593.0       Gold Way      1755   \n",
       "\n",
       "  speed_hump_material         neighborhood  council_district  ward  \\\n",
       "0             Asphalt  Squirrel Hill South                 5    14   \n",
       "1                 NaN  Squirrel Hill South                 5    14   \n",
       "2             Asphalt        North Oakland                 6     5   \n",
       "3             Asphalt        North Oakland                 6     5   \n",
       "4             Asphalt        North Oakland                 6     5   \n",
       "\n",
       "         tract  public_works_division  pli_division  police_zone fire_zone  \\\n",
       "0  42003141400                      3            14            4      2-15   \n",
       "1  42003141400                      3            14            4      2-20   \n",
       "2  42003562000                      3             5            4      2-23   \n",
       "3  42003562000                      3             5            4      2-23   \n",
       "4  42003562000                      3             5            4      2-23   \n",
       "\n",
       "    latitude  longitude  \n",
       "0  40.419835 -79.926062  \n",
       "1  40.425040 -79.912040  \n",
       "2  40.456746 -79.954521  \n",
       "3  40.457333 -79.954899  \n",
       "4  40.458061 -79.955355  "
      ]
     },
     "execution_count": 160,
     "metadata": {},
     "output_type": "execute_result"
    }
   ],
   "source": [
    "humps.head(5)"
   ]
  },
  {
   "cell_type": "markdown",
   "id": "d16d8306-46a5-4cec-be46-399d41b32aa9",
   "metadata": {},
   "source": [
    "This dataset provides a lot of information and has a lot of column that we don't really need to know about. Let's sort this by neighborhood and how many humps there are in each neighborhood. "
   ]
  },
  {
   "cell_type": "code",
   "execution_count": 163,
   "id": "b352ef54-36a9-4167-a387-b52d9f34fe0b",
   "metadata": {},
   "outputs": [
    {
     "name": "stdout",
     "output_type": "stream",
     "text": [
      "           neighborhood  hump_id\n",
      "0            Bloomfield        3\n",
      "1             Brookline        4\n",
      "2               Carrick        9\n",
      "3       Central Oakland        1\n",
      "4              Garfield        3\n",
      "5         Highland Park        2\n",
      "6        Homewood South        4\n",
      "7      Mount Washington        3\n",
      "8         North Oakland        6\n",
      "9             Overbrook        1\n",
      "10          Perry North        4\n",
      "11          Polish Hill        6\n",
      "12     South Side Flats        3\n",
      "13    South Side Slopes        4\n",
      "14  Squirrel Hill North        3\n",
      "15  Squirrel Hill South       18\n",
      "16      Stanton Heights        1\n",
      "17           Upper Hill        4\n"
     ]
    }
   ],
   "source": [
    "humps_count  = humps.groupby('neighborhood')['hump_id'].count().reset_index()\n",
    "print(humps_count) "
   ]
  },
  {
   "cell_type": "markdown",
   "id": "bcb00a8d-1975-4efa-a820-13e685990d5c",
   "metadata": {},
   "source": [
    "Okay good, now this is data that is more specific to what we need. Let's change the name of hump_id to count and orangize it to better reflect what it represents now. \n"
   ]
  },
  {
   "cell_type": "code",
   "execution_count": 209,
   "id": "1065f89d-2850-4f25-af6c-88f68ff054a4",
   "metadata": {},
   "outputs": [
    {
     "name": "stdout",
     "output_type": "stream",
     "text": [
      "           neighborhood  count\n",
      "9             Overbrook      1\n",
      "3       Central Oakland      1\n",
      "16      Stanton Heights      1\n",
      "5         Highland Park      2\n",
      "4              Garfield      3\n",
      "7      Mount Washington      3\n",
      "0            Bloomfield      3\n",
      "12     South Side Flats      3\n",
      "14  Squirrel Hill North      3\n",
      "10          Perry North      4\n",
      "6        Homewood South      4\n",
      "13    South Side Slopes      4\n",
      "17           Upper Hill      4\n",
      "1             Brookline      4\n",
      "8         North Oakland      6\n",
      "11          Polish Hill      6\n",
      "2               Carrick      9\n",
      "15  Squirrel Hill South     18\n"
     ]
    }
   ],
   "source": [
    "humps_count = humps_count.rename(columns={'hump_id': 'count'}) \n",
    "humps_count = humps_count.sort_values(by='count', ascending=True)\n",
    "\n",
    "print(humps_count)"
   ]
  },
  {
   "cell_type": "markdown",
   "id": "3c3663e3-def1-4400-ad39-aa7364d295e9",
   "metadata": {},
   "source": [
    "Let's visualize this on a bar graph. "
   ]
  },
  {
   "cell_type": "code",
   "execution_count": 211,
   "id": "1d9a0067-64ad-4337-9c40-01e7db109009",
   "metadata": {},
   "outputs": [
    {
     "data": {
      "image/png": "[encoded data removed]",
      "text/plain": [
       "<Figure size 1000x500 with 1 Axes>"
      ]
     },
     "metadata": {},
     "output_type": "display_data"
    }
   ],
   "source": [
    "plt.figure(figsize=(10, 5))\n",
    "plt.bar(humps_count['neighborhood'], humps_count['count'], color='orange')\n",
    "plt.xticks(rotation=90)\n",
    "plt.show() "
   ]
  },
  {
   "cell_type": "markdown",
   "id": "318a931b-dff1-4991-bba1-6ee55087504b",
   "metadata": {},
   "source": [
    "##  Conclusion \n",
    "\n",
    "\n",
    "As we can see from the graph, the top 5 neighbhorhood with the lowest amount of speed humps are the following: \n",
    "1. Overbrook (1)\n",
    "2. Central Oakland (1)\n",
    "3. Stantion heights (1) \n",
    "4. Highland Park (2)\n",
    "5. Garfield (3)"
   ]
  }
 ],
 "metadata": {
  "kernelspec": {
   "display_name": "Python 3 (ipykernel)",
   "language": "python",
   "name": "python3"
  },
  "language_info": {
   "codemirror_mode": {
    "name": "ipython",
    "version": 3
   },
   "file_extension": ".py",
   "mimetype": "text/x-python",
   "name": "python",
   "nbconvert_exporter": "python",
   "pygments_lexer": "ipython3",
   "version": "3.12.4"
  }
 },
 "nbformat": 4,
 "nbformat_minor": 5
}
