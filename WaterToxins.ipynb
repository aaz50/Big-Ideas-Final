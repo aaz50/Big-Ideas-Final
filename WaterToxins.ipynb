{
 "cells": [
  {
   "cell_type": "markdown",
   "id": "23bcc831-f0b5-4df5-8c77-22507d754761",
   "metadata": {},
   "source": [
    "# Water Toxin Releases in Pittsburgh"
   ]
  },
  {
   "cell_type": "markdown",
   "id": "59467c76-6b8f-4699-9f2d-ba4bd0cc0c54",
   "metadata": {},
   "source": [
    "The WPRDC Toxic Releases in water provides a dataset that lets you see the total release of chemicals per lb into the water by different facilities. This information allows you to determine what neighborhoods has cleanest water with the least pollutants. It also helps you identify the neighborhoods with high amounts of toxic releases, making sure you avoid drinking water from them. "
   ]
  },
  {
   "cell_type": "markdown",
   "id": "77d0d289-57db-4ae6-a0f0-1c4491b2413f",
   "metadata": {},
   "source": [
    "Start by importing pandas and reading in the data "
   ]
  },
  {
   "cell_type": "code",
   "execution_count": null,
   "id": "ae8ae489-7883-4586-9b53-6a2ebdc0e28e",
   "metadata": {},
   "outputs": [],
   "source": [
    "import pandas as pd\n",
    "\n",
    "watertoxdata = pd.read_csv(\"https://data.wprdc.org/datastore/dump/c9baaa77-2dc5-494c-a2ce-f90db9106df2\")"
   ]
  },
  {
   "cell_type": "markdown",
   "id": "45750c3d-8252-447d-80b4-ffa2f29c82f8",
   "metadata": {},
   "source": [
    "Dataset is for Alleghany County, so we first sort out everything besides the city of Pittsburgh. We also sort out all the columns that are relevant. "
   ]
  },
  {
   "cell_type": "code",
   "execution_count": null,
   "id": "b13ebc19-eb76-42e7-bec1-312ab9906f0e",
   "metadata": {},
   "outputs": [],
   "source": [
    "filtered_data = watertoxdata[watertoxdata['CITY_NAME'].str.contains('PITTSBURGH', case=False, na=False)]\n",
    "columns_to_display = ['FACILITY_NAME', 'STREET_ADDRESS',  'CITY_NAME', 'ZIP_CODE', 'CHEM_NAME', 'CARCINOGEN', 'CLEAN_AIR', 'TOTAL_RELEASE']\n",
    "filtered_data[columns_to_display].head()"
   ]
  },
  {
   "cell_type": "markdown",
   "id": "e68ceae3-dd3f-428a-b1ff-6603ba20e824",
   "metadata": {},
   "source": [
    "Here we sort the data and figure out the zip code with the highest total release of chemicals (per lb) into the water. The majority is from facilities in 15225 which encompasses the Neville Township. We also remove any rows that have a null total release value. A few zip codes that are identical but have extensions are also removed. "
   ]
  },
  {
   "cell_type": "code",
   "execution_count": null,
   "id": "9d6ec177-42d3-4f89-8cfd-0e80a15e50f9",
   "metadata": {},
   "outputs": [],
   "source": [
    "filtered_data = filtered_data.dropna(subset=['TOTAL_RELEASE'])\n",
    "\n",
    "filtered_data = filtered_data[filtered_data['ZIP_CODE'] != 152251516]\n",
    "filtered_data = filtered_data[filtered_data['ZIP_CODE'] != 152042599]\n",
    "filtered_data = filtered_data[filtered_data['ZIP_CODE'] != 152206246]\n",
    "filtered_data = filtered_data[filtered_data['ZIP_CODE'] != 152342624]\n",
    "\n",
    "\n",
    "filtered_data = filtered_data.sort_values(by='TOTAL_RELEASE', ascending=False)\n",
    "filtered_data[columns_to_display].head()\n"
   ]
  },
  {
   "cell_type": "markdown",
   "id": "12d3c76a-fbba-430c-a31f-550b046affe8",
   "metadata": {},
   "source": [
    "We group together the total releases of each zipcode to make the data more centralized. "
   ]
  },
  {
   "cell_type": "code",
   "execution_count": null,
   "id": "f117ed82-70f3-404c-b537-5bdbb3676508",
   "metadata": {},
   "outputs": [],
   "source": [
    "zip_code_totals = filtered_data.groupby('ZIP_CODE')['TOTAL_RELEASE'].sum()"
   ]
  },
  {
   "cell_type": "markdown",
   "id": "2d937629-61bb-45a2-bdbc-9d7dfb0a1145",
   "metadata": {},
   "source": [
    "We find the zip codes with the most total releases (worst ones to live at)"
   ]
  },
  {
   "cell_type": "code",
   "execution_count": 82,
   "id": "42effaa7-b847-4f50-b88b-754c5e59ceba",
   "metadata": {},
   "outputs": [
    {
     "data": {
      "text/plain": [
       "ZIP_CODE\n",
       "15225    1542450.60\n",
       "15207     771586.00\n",
       "15201     139734.71\n",
       "15236         48.00\n",
       "15226         21.00\n",
       "Name: TOTAL_RELEASE, dtype: float64"
      ]
     },
     "execution_count": 82,
     "metadata": {},
     "output_type": "execute_result"
    }
   ],
   "source": [
    "worst_zip_codes = zip_code_totals.sort_values(ascending=False).head(5)\n",
    "worst_zip_codes"
   ]
  },
  {
   "cell_type": "markdown",
   "id": "49e82ed6-a916-400c-a7ca-7e33a2077113",
   "metadata": {},
   "source": [
    "Here the zipcodes we replace the zipcodes with neighborhoods. The second line of code converts the keys in the zip_to_name dictionary to integers and keeps the corresponding values the same. This is needed as the zip codes cannot be used as an index without being integers.  "
   ]
  },
  {
   "cell_type": "code",
   "execution_count": 85,
   "id": "21c745f4-5528-4361-b5e3-66385fd3f933",
   "metadata": {},
   "outputs": [
    {
     "data": {
      "text/plain": [
       "ZIP_CODE\n",
       "15225                                                                                            1542450.60\n",
       "Greenfield, New Homestead, Lincoln Place, Glen Hazel, Hazelwood, Hays                             771586.00\n",
       "Central Lawrenceville, Lower Lawrenceville, Upper Lawrenceville, Stanton Heights, Polish Hill     139734.71\n",
       "Pleasant HIlls, South Park, Whitehall, Baldwin                                                        48.00\n",
       "Brookline, Overbrook, Beechview, Bon Air, Baldwin                                                     21.00\n",
       "Name: TOTAL_RELEASE, dtype: float64"
      ]
     },
     "execution_count": 85,
     "metadata": {},
     "output_type": "execute_result"
    }
   ],
   "source": [
    "zip_to_name = {\n",
    "    '15525': \"Neville\",\n",
    "    '15207': 'Greenfield, New Homestead, Lincoln Place, Glen Hazel, Hazelwood, Hays',\n",
    "    '15201': 'Central Lawrenceville, Lower Lawrenceville, Upper Lawrenceville, Stanton Heights, Polish Hill',\n",
    "    '15236': 'Pleasant HIlls, South Park, Whitehall, Baldwin',\n",
    "    '15226': 'Brookline, Overbrook, Beechview, Bon Air, Baldwin'\n",
    "}\n",
    "\n",
    "zip_to_name = {int(i): v for i, v in zip_to_name.items()}\n",
    "\n",
    "worst_neighborhoods = worst_zip_codes.rename(index=zip_to_name)\n",
    "\n",
    "worst_neighborhoods"
   ]
  },
  {
   "cell_type": "markdown",
   "id": "45ad6a98-e973-4baa-b452-7442b6f5e8ed",
   "metadata": {},
   "source": [
    "Now these are the best zipcodes with no releases into the water at all. "
   ]
  },
  {
   "cell_type": "code",
   "execution_count": 88,
   "id": "2c7525bb-aba4-4e3b-904c-7cf177dd42b6",
   "metadata": {},
   "outputs": [
    {
     "data": {
      "text/plain": [
       "ZIP_CODE\n",
       "15204     0.0\n",
       "15219     0.0\n",
       "15233     0.0\n",
       "15275     0.0\n",
       "15226    21.0\n",
       "Name: TOTAL_RELEASE, dtype: float64"
      ]
     },
     "execution_count": 88,
     "metadata": {},
     "output_type": "execute_result"
    }
   ],
   "source": [
    "top_zip_codes = zip_code_totals.sort_values(ascending=True).head(5)\n",
    "top_zip_codes"
   ]
  },
  {
   "cell_type": "markdown",
   "id": "0d1b318c-9a2e-4437-84d7-61521b8eb7fd",
   "metadata": {},
   "source": [
    "Here we display them as neighboorhoods. "
   ]
  },
  {
   "cell_type": "code",
   "execution_count": 117,
   "id": "76ed2478-c7af-4e06-8435-f27c6d219e41",
   "metadata": {},
   "outputs": [
    {
     "data": {
      "text/plain": [
       "ZIP_CODE\n",
       "Crafton Heights, Windgap, Chartiers, Sheraden, Esplen                           0.0\n",
       "Market Square, Cultural District, The Point, West Oakland, Crawford-Roberts     0.0\n",
       "Central Northside, Marshall-Shadeland, Allegheny West, Manchester               0.0\n",
       "North Fayette                                                                   0.0\n",
       "Brookline, Overbrook, Beechview, Bon Air, Baldwin                              21.0\n",
       "Name: TOTAL_RELEASE, dtype: float64"
      ]
     },
     "execution_count": 117,
     "metadata": {},
     "output_type": "execute_result"
    }
   ],
   "source": [
    "zip_name = {\n",
    "    '15204': 'Crafton Heights, Windgap, Chartiers, Sheraden, Esplen',\n",
    "    '15219': 'Market Square, Cultural District, The Point, West Oakland, Crawford-Roberts',\n",
    "    '15233': 'Central Northside, Marshall-Shadeland, Allegheny West, Manchester',\n",
    "    '15275': 'North Fayette',\n",
    "    '15226': 'Brookline, Overbrook, Beechview, Bon Air, Baldwin'\n",
    "}\n",
    "\n",
    "zip_name = {int(i): v for i, v in zip_name.items()}\n",
    "top_neighborhoods = top_zip_codes.rename(index=zip_name)\n",
    "top_neighborhoods"
   ]
  },
  {
   "cell_type": "markdown",
   "id": "173daf86-3a67-409c-91ee-cd7a1ed716cd",
   "metadata": {},
   "source": [
    "# Conclusion"
   ]
  },
  {
   "cell_type": "markdown",
   "id": "54c8af29-8685-4460-bd99-d421c8f82079",
   "metadata": {},
   "source": [
    "There are a couple of neighborhoods with zero toxic releases into the water so we're displaying them as zipcodes\n",
    "\n",
    "1. 15204 (0)\n",
    "2. 15219 (0)\n",
    "3. 15233 (0)\n",
    "4. 15275 (0)\n",
    "5. 15226 (21)"
   ]
  },
  {
   "cell_type": "code",
   "execution_count": null,
   "id": "3503b6bd-cd3e-415f-a834-ae7b6a5e80e3",
   "metadata": {},
   "outputs": [],
   "source": []
  }
 ],
 "metadata": {
  "kernelspec": {
   "display_name": "Python 3 (ipykernel)",
   "language": "python",
   "name": "python3"
  },
  "language_info": {
   "codemirror_mode": {
    "name": "ipython",
    "version": 3
   },
   "file_extension": ".py",
   "mimetype": "text/x-python",
   "name": "python",
   "nbconvert_exporter": "python",
   "pygments_lexer": "ipython3",
   "version": "3.12.4"
  }
 },
 "nbformat": 4,
 "nbformat_minor": 5
}
