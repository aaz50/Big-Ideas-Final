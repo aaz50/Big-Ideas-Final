{
 "cells": [
  {
   "cell_type": "markdown",
   "id": "23bcc831-f0b5-4df5-8c77-22507d754761",
   "metadata": {},
   "source": [
    "# Water Toxin Releases in Pittsburgh"
   ]
  },
  {
   "cell_type": "markdown",
   "id": "59467c76-6b8f-4699-9f2d-ba4bd0cc0c54",
   "metadata": {},
   "source": [
    "The WPRDC Toxic Releases in water provides a dataset that lets you see the total release of chemicals per lb into the water by different facilities. This information allows you to determine what neighborhoods has cleanest water with the least pollutants. It also helps you identify the neighborhoods with high amounts of toxic releases, making sure you avoid drinking water from them. "
   ]
  },
  {
   "cell_type": "markdown",
   "id": "77d0d289-57db-4ae6-a0f0-1c4491b2413f",
   "metadata": {},
   "source": [
    "Start by importing pandas and reading in the data "
   ]
  },
  {
   "cell_type": "code",
   "execution_count": 155,
   "id": "f6bc50f3-647e-4d1a-a1d5-99b15ead91b2",
   "metadata": {},
   "outputs": [],
   "source": [
    "import pandas as pd\n",
    "import matplotlib.pyplot as plt\n",
    "%matplotlib inline\n",
    "\n",
    "watertoxdata = pd.read_csv(\"https://data.wprdc.org/datastore/dump/c9baaa77-2dc5-494c-a2ce-f90db9106df2\")"
   ]
  },
  {
   "cell_type": "markdown",
   "id": "45750c3d-8252-447d-80b4-ffa2f29c82f8",
   "metadata": {},
   "source": [
    "Dataset is for Alleghany County, so we first sort out everything besides the city of Pittsburgh. We also sort out all the columns that are relevant. "
   ]
  },
  {
   "cell_type": "code",
   "execution_count": 121,
   "id": "b13ebc19-eb76-42e7-bec1-312ab9906f0e",
   "metadata": {},
   "outputs": [
    {
     "data": {
      "text/html": [
       "<div>\n",
       "<style scoped>\n",
       "    .dataframe tbody tr th:only-of-type {\n",
       "        vertical-align: middle;\n",
       "    }\n",
       "\n",
       "    .dataframe tbody tr th {\n",
       "        vertical-align: top;\n",
       "    }\n",
       "\n",
       "    .dataframe thead th {\n",
       "        text-align: right;\n",
       "    }\n",
       "</style>\n",
       "<table border=\"1\" class=\"dataframe\">\n",
       "  <thead>\n",
       "    <tr style=\"text-align: right;\">\n",
       "      <th></th>\n",
       "      <th>FACILITY_NAME</th>\n",
       "      <th>STREET_ADDRESS</th>\n",
       "      <th>CITY_NAME</th>\n",
       "      <th>ZIP_CODE</th>\n",
       "      <th>CHEM_NAME</th>\n",
       "      <th>CARCINOGEN</th>\n",
       "      <th>CLEAN_AIR</th>\n",
       "      <th>TOTAL_RELEASE</th>\n",
       "    </tr>\n",
       "  </thead>\n",
       "  <tbody>\n",
       "    <tr>\n",
       "      <th>0</th>\n",
       "      <td>PRUETT-SCHAFFER CHEMICAL CO INC.</td>\n",
       "      <td>3327 STAFFORD ST</td>\n",
       "      <td>PITTSBURGH</td>\n",
       "      <td>15204</td>\n",
       "      <td>Xylene (mixed isomers)</td>\n",
       "      <td>N</td>\n",
       "      <td>Y</td>\n",
       "      <td>NaN</td>\n",
       "    </tr>\n",
       "    <tr>\n",
       "      <th>3</th>\n",
       "      <td>E.E. ZIMMERMAN CO</td>\n",
       "      <td>2020 KNOTT ST</td>\n",
       "      <td>PITTSBURGH</td>\n",
       "      <td>15233</td>\n",
       "      <td>Methyl ethyl ketone</td>\n",
       "      <td>N</td>\n",
       "      <td>N</td>\n",
       "      <td>NaN</td>\n",
       "    </tr>\n",
       "    <tr>\n",
       "      <th>4</th>\n",
       "      <td>E.E. ZIMMERMAN CO</td>\n",
       "      <td>2020 KNOTT ST</td>\n",
       "      <td>PITTSBURGH</td>\n",
       "      <td>15233</td>\n",
       "      <td>Methanol</td>\n",
       "      <td>N</td>\n",
       "      <td>Y</td>\n",
       "      <td>NaN</td>\n",
       "    </tr>\n",
       "    <tr>\n",
       "      <th>5</th>\n",
       "      <td>E.E. ZIMMERMAN CO</td>\n",
       "      <td>2020 KNOTT ST</td>\n",
       "      <td>PITTSBURGH</td>\n",
       "      <td>15233</td>\n",
       "      <td>1,2,4-Trimethylbenzene</td>\n",
       "      <td>N</td>\n",
       "      <td>N</td>\n",
       "      <td>NaN</td>\n",
       "    </tr>\n",
       "    <tr>\n",
       "      <th>6</th>\n",
       "      <td>E.E. ZIMMERMAN CO</td>\n",
       "      <td>2020 KNOTT ST</td>\n",
       "      <td>PITTSBURGH</td>\n",
       "      <td>15233</td>\n",
       "      <td>Toluene</td>\n",
       "      <td>N</td>\n",
       "      <td>Y</td>\n",
       "      <td>NaN</td>\n",
       "    </tr>\n",
       "  </tbody>\n",
       "</table>\n",
       "</div>"
      ],
      "text/plain": [
       "                      FACILITY_NAME    STREET_ADDRESS   CITY_NAME  ZIP_CODE  \\\n",
       "0  PRUETT-SCHAFFER CHEMICAL CO INC.  3327 STAFFORD ST  PITTSBURGH     15204   \n",
       "3                 E.E. ZIMMERMAN CO     2020 KNOTT ST  PITTSBURGH     15233   \n",
       "4                 E.E. ZIMMERMAN CO     2020 KNOTT ST  PITTSBURGH     15233   \n",
       "5                 E.E. ZIMMERMAN CO     2020 KNOTT ST  PITTSBURGH     15233   \n",
       "6                 E.E. ZIMMERMAN CO     2020 KNOTT ST  PITTSBURGH     15233   \n",
       "\n",
       "                CHEM_NAME CARCINOGEN CLEAN_AIR  TOTAL_RELEASE  \n",
       "0  Xylene (mixed isomers)          N         Y            NaN  \n",
       "3     Methyl ethyl ketone          N         N            NaN  \n",
       "4                Methanol          N         Y            NaN  \n",
       "5  1,2,4-Trimethylbenzene          N         N            NaN  \n",
       "6                 Toluene          N         Y            NaN  "
      ]
     },
     "execution_count": 121,
     "metadata": {},
     "output_type": "execute_result"
    }
   ],
   "source": [
    "filtered_data = watertoxdata[watertoxdata['CITY_NAME'].str.contains('PITTSBURGH', case=False, na=False)]\n",
    "columns_to_display = ['FACILITY_NAME', 'STREET_ADDRESS',  'CITY_NAME', 'ZIP_CODE', 'CHEM_NAME', 'CARCINOGEN', 'CLEAN_AIR', 'TOTAL_RELEASE']\n",
    "filtered_data[columns_to_display].head()"
   ]
  },
  {
   "cell_type": "markdown",
   "id": "e68ceae3-dd3f-428a-b1ff-6603ba20e824",
   "metadata": {},
   "source": [
    "Here we sort the data and figure out the zip code with the highest total release of chemicals (per lb) into the water. The majority is from facilities in 15225 which encompasses the Neville Township. We also remove any rows that have a null total release value. A few zip codes that are identical but have extensions are also removed. "
   ]
  },
  {
   "cell_type": "code",
   "execution_count": 123,
   "id": "9d6ec177-42d3-4f89-8cfd-0e80a15e50f9",
   "metadata": {},
   "outputs": [
    {
     "data": {
      "text/html": [
       "<div>\n",
       "<style scoped>\n",
       "    .dataframe tbody tr th:only-of-type {\n",
       "        vertical-align: middle;\n",
       "    }\n",
       "\n",
       "    .dataframe tbody tr th {\n",
       "        vertical-align: top;\n",
       "    }\n",
       "\n",
       "    .dataframe thead th {\n",
       "        text-align: right;\n",
       "    }\n",
       "</style>\n",
       "<table border=\"1\" class=\"dataframe\">\n",
       "  <thead>\n",
       "    <tr style=\"text-align: right;\">\n",
       "      <th></th>\n",
       "      <th>FACILITY_NAME</th>\n",
       "      <th>STREET_ADDRESS</th>\n",
       "      <th>CITY_NAME</th>\n",
       "      <th>ZIP_CODE</th>\n",
       "      <th>CHEM_NAME</th>\n",
       "      <th>CARCINOGEN</th>\n",
       "      <th>CLEAN_AIR</th>\n",
       "      <th>TOTAL_RELEASE</th>\n",
       "    </tr>\n",
       "  </thead>\n",
       "  <tbody>\n",
       "    <tr>\n",
       "      <th>10330</th>\n",
       "      <td>SHENANGO INC</td>\n",
       "      <td>200 NEVILLE RD</td>\n",
       "      <td>PITTSBURGH</td>\n",
       "      <td>15225</td>\n",
       "      <td>Ammonia</td>\n",
       "      <td>N</td>\n",
       "      <td>N</td>\n",
       "      <td>197243.0</td>\n",
       "    </tr>\n",
       "    <tr>\n",
       "      <th>13890</th>\n",
       "      <td>SHENANGO INC</td>\n",
       "      <td>200 NEVILLE RD</td>\n",
       "      <td>PITTSBURGH</td>\n",
       "      <td>15225</td>\n",
       "      <td>Ammonia</td>\n",
       "      <td>N</td>\n",
       "      <td>N</td>\n",
       "      <td>160995.0</td>\n",
       "    </tr>\n",
       "    <tr>\n",
       "      <th>8662</th>\n",
       "      <td>LTV STEEL COMPANY INC PITTSBURGH WORKS</td>\n",
       "      <td>4650 SECOND AVENUE</td>\n",
       "      <td>PITTSBURGH</td>\n",
       "      <td>15207</td>\n",
       "      <td>Ammonia</td>\n",
       "      <td>N</td>\n",
       "      <td>N</td>\n",
       "      <td>150000.0</td>\n",
       "    </tr>\n",
       "    <tr>\n",
       "      <th>13488</th>\n",
       "      <td>SHENANGO INC</td>\n",
       "      <td>200 NEVILLE RD</td>\n",
       "      <td>PITTSBURGH</td>\n",
       "      <td>15225</td>\n",
       "      <td>Ammonia</td>\n",
       "      <td>N</td>\n",
       "      <td>N</td>\n",
       "      <td>132370.0</td>\n",
       "    </tr>\n",
       "    <tr>\n",
       "      <th>12201</th>\n",
       "      <td>SHENANGO INC</td>\n",
       "      <td>200 NEVILLE RD</td>\n",
       "      <td>PITTSBURGH</td>\n",
       "      <td>15225</td>\n",
       "      <td>Ammonia</td>\n",
       "      <td>N</td>\n",
       "      <td>N</td>\n",
       "      <td>92000.0</td>\n",
       "    </tr>\n",
       "  </tbody>\n",
       "</table>\n",
       "</div>"
      ],
      "text/plain": [
       "                                FACILITY_NAME      STREET_ADDRESS   CITY_NAME  \\\n",
       "10330                            SHENANGO INC      200 NEVILLE RD  PITTSBURGH   \n",
       "13890                            SHENANGO INC      200 NEVILLE RD  PITTSBURGH   \n",
       "8662   LTV STEEL COMPANY INC PITTSBURGH WORKS  4650 SECOND AVENUE  PITTSBURGH   \n",
       "13488                            SHENANGO INC      200 NEVILLE RD  PITTSBURGH   \n",
       "12201                            SHENANGO INC      200 NEVILLE RD  PITTSBURGH   \n",
       "\n",
       "       ZIP_CODE CHEM_NAME CARCINOGEN CLEAN_AIR  TOTAL_RELEASE  \n",
       "10330     15225   Ammonia          N         N       197243.0  \n",
       "13890     15225   Ammonia          N         N       160995.0  \n",
       "8662      15207   Ammonia          N         N       150000.0  \n",
       "13488     15225   Ammonia          N         N       132370.0  \n",
       "12201     15225   Ammonia          N         N        92000.0  "
      ]
     },
     "execution_count": 123,
     "metadata": {},
     "output_type": "execute_result"
    }
   ],
   "source": [
    "filtered_data = filtered_data.dropna(subset=['TOTAL_RELEASE'])\n",
    "\n",
    "filtered_data = filtered_data[filtered_data['ZIP_CODE'] != 152251516]\n",
    "filtered_data = filtered_data[filtered_data['ZIP_CODE'] != 152042599]\n",
    "filtered_data = filtered_data[filtered_data['ZIP_CODE'] != 152206246]\n",
    "filtered_data = filtered_data[filtered_data['ZIP_CODE'] != 152342624]\n",
    "\n",
    "\n",
    "filtered_data = filtered_data.sort_values(by='TOTAL_RELEASE', ascending=False)\n",
    "filtered_data[columns_to_display].head()\n"
   ]
  },
  {
   "cell_type": "markdown",
   "id": "12d3c76a-fbba-430c-a31f-550b046affe8",
   "metadata": {},
   "source": [
    "We group together the total releases of each zipcode to make the data more centralized. "
   ]
  },
  {
   "cell_type": "code",
   "execution_count": 125,
   "id": "f117ed82-70f3-404c-b537-5bdbb3676508",
   "metadata": {},
   "outputs": [],
   "source": [
    "zip_code_totals = filtered_data.groupby('ZIP_CODE')['TOTAL_RELEASE'].sum()"
   ]
  },
  {
   "cell_type": "markdown",
   "id": "2d937629-61bb-45a2-bdbc-9d7dfb0a1145",
   "metadata": {},
   "source": [
    "We find the zip codes with the most total releases (worst ones to live at)"
   ]
  },
  {
   "cell_type": "code",
   "execution_count": 130,
   "id": "42effaa7-b847-4f50-b88b-754c5e59ceba",
   "metadata": {},
   "outputs": [
    {
     "data": {
      "text/plain": [
       "ZIP_CODE\n",
       "15225    1542450.60\n",
       "15207     771586.00\n",
       "15201     139734.71\n",
       "15236         48.00\n",
       "15226         21.00\n",
       "Name: TOTAL_RELEASE, dtype: float64"
      ]
     },
     "execution_count": 130,
     "metadata": {},
     "output_type": "execute_result"
    }
   ],
   "source": [
    "worst_zip_codes = zip_code_totals.sort_values(ascending=False).head(5)\n",
    "worst_zip_codes"
   ]
  },
  {
   "cell_type": "markdown",
   "id": "49e82ed6-a916-400c-a7ca-7e33a2077113",
   "metadata": {},
   "source": [
    "Here the zipcodes we replace the zipcodes with neighborhoods. The second line of code converts the keys in the zip_to_name dictionary to integers and keeps the corresponding values the same. This is needed as the zip codes cannot be used as an index without being integers.  "
   ]
  },
  {
   "cell_type": "code",
   "execution_count": 134,
   "id": "21c745f4-5528-4361-b5e3-66385fd3f933",
   "metadata": {},
   "outputs": [
    {
     "data": {
      "text/plain": [
       "ZIP_CODE\n",
       "15225                                                                                            1542450.60\n",
       "Greenfield, New Homestead, Lincoln Place, Glen Hazel, Hazelwood, Hays                             771586.00\n",
       "Central Lawrenceville, Lower Lawrenceville, Upper Lawrenceville, Stanton Heights, Polish Hill     139734.71\n",
       "Pleasant HIlls, South Park, Whitehall, Baldwin                                                        48.00\n",
       "Brookline, Overbrook, Beechview, Bon Air, Baldwin                                                     21.00\n",
       "Name: TOTAL_RELEASE, dtype: float64"
      ]
     },
     "execution_count": 134,
     "metadata": {},
     "output_type": "execute_result"
    }
   ],
   "source": [
    "zip_to_name = {\n",
    "    '15525': \"Neville\",\n",
    "    '15207': 'Greenfield, New Homestead, Lincoln Place, Glen Hazel, Hazelwood, Hays',\n",
    "    '15201': 'Central Lawrenceville, Lower Lawrenceville, Upper Lawrenceville, Stanton Heights, Polish Hill',\n",
    "    '15236': 'Pleasant HIlls, South Park, Whitehall, Baldwin',\n",
    "    '15226': 'Brookline, Overbrook, Beechview, Bon Air, Baldwin'\n",
    "}\n",
    "\n",
    "zip_to_name = {int(i): v for i, v in zip_to_name.items()}\n",
    "\n",
    "worst_neighborhoods = worst_zip_codes.rename(index=zip_to_name)\n",
    "\n",
    "worst_neighborhoods"
   ]
  },
  {
   "cell_type": "markdown",
   "id": "45ad6a98-e973-4baa-b452-7442b6f5e8ed",
   "metadata": {},
   "source": [
    "Now these are the best zipcodes with no releases into the water at all. "
   ]
  },
  {
   "cell_type": "code",
   "execution_count": 137,
   "id": "2c7525bb-aba4-4e3b-904c-7cf177dd42b6",
   "metadata": {},
   "outputs": [
    {
     "data": {
      "text/plain": [
       "ZIP_CODE\n",
       "15204     0.0\n",
       "15219     0.0\n",
       "15233     0.0\n",
       "15275     0.0\n",
       "15226    21.0\n",
       "Name: TOTAL_RELEASE, dtype: float64"
      ]
     },
     "execution_count": 137,
     "metadata": {},
     "output_type": "execute_result"
    }
   ],
   "source": [
    "top_zip_codes = zip_code_totals.sort_values(ascending=True).head(5)\n",
    "top_zip_codes"
   ]
  },
  {
   "cell_type": "markdown",
   "id": "0d1b318c-9a2e-4437-84d7-61521b8eb7fd",
   "metadata": {},
   "source": [
    "Here we display them as neighboorhoods. "
   ]
  },
  {
   "cell_type": "code",
   "execution_count": 140,
   "id": "76ed2478-c7af-4e06-8435-f27c6d219e41",
   "metadata": {},
   "outputs": [
    {
     "data": {
      "text/plain": [
       "ZIP_CODE\n",
       "Crafton Heights, Windgap, Chartiers, Sheraden, Esplen                           0.0\n",
       "Market Square, Cultural District, The Point, West Oakland, Crawford-Roberts     0.0\n",
       "Central Northside, Marshall-Shadeland, Allegheny West, Manchester               0.0\n",
       "North Fayette                                                                   0.0\n",
       "Brookline, Overbrook, Beechview, Bon Air, Baldwin                              21.0\n",
       "Name: TOTAL_RELEASE, dtype: float64"
      ]
     },
     "execution_count": 140,
     "metadata": {},
     "output_type": "execute_result"
    }
   ],
   "source": [
    "zip_name = {\n",
    "    '15204': 'Crafton Heights, Windgap, Chartiers, Sheraden, Esplen',\n",
    "    '15219': 'Market Square, Cultural District, The Point, West Oakland, Crawford-Roberts',\n",
    "    '15233': 'Central Northside, Marshall-Shadeland, Allegheny West, Manchester',\n",
    "    '15275': 'North Fayette',\n",
    "    '15226': 'Brookline, Overbrook, Beechview, Bon Air, Baldwin'\n",
    "}\n",
    "\n",
    "zip_name = {int(i): v for i, v in zip_name.items()}\n",
    "top_neighborhoods = top_zip_codes.rename(index=zip_name)\n",
    "top_neighborhoods"
   ]
  },
  {
   "cell_type": "markdown",
   "id": "f59f4038-2171-49be-bd85-051361c77829",
   "metadata": {},
   "source": [
    "This is the data visualized for most waste and least released toxins (Displayed as zipcodes to read easier)"
   ]
  },
  {
   "cell_type": "code",
   "execution_count": 177,
   "id": "ee3332c8-7b93-4e2c-a4ec-418a04b50f61",
   "metadata": {},
   "outputs": [
    {
     "data": {
      "image/png": "[encoded data removed]",
      "text/plain": [
       "<Figure size 500x500 with 1 Axes>"
      ]
     },
     "metadata": {},
     "output_type": "display_data"
    }
   ],
   "source": [
    "plt.figure(figsize=(5, 5))\n",
    "plt.bar(worst_zip_codes.index, worst_zip_codes.values, color = 'red')\n",
    "plt.xticks(rotation=90)\n",
    "plt.xlabel('Neighborhoods')\n",
    "plt.ylabel('Total Release')\n",
    "plt.title('Top 5 Worst ZIP Codes by total toxic release')\n",
    "plt.show() \n"
   ]
  },
  {
   "cell_type": "code",
   "execution_count": 181,
   "id": "f34f13ba-3019-4c62-a286-d2e3db5e264a",
   "metadata": {},
   "outputs": [
    {
     "data": {
      "image/png": "[encoded data removed]",
      "text/plain": [
       "<Figure size 500x500 with 1 Axes>"
      ]
     },
     "metadata": {},
     "output_type": "display_data"
    }
   ],
   "source": [
    "plt.figure(figsize=(5, 5))\n",
    "plt.bar(top_zip_codes.index, top_zip_codes.values, color = 'green')\n",
    "plt.xticks(rotation=90)\n",
    "plt.xlabel('Neighborhoods')\n",
    "plt.ylabel('Total Release')\n",
    "plt.title('Top 5 Best ZIP Codes by total toxic release')\n",
    "plt.show() \n"
   ]
  },
  {
   "cell_type": "markdown",
   "id": "173daf86-3a67-409c-91ee-cd7a1ed716cd",
   "metadata": {},
   "source": [
    "# Conclusion"
   ]
  },
  {
   "cell_type": "markdown",
   "id": "54c8af29-8685-4460-bd99-d421c8f82079",
   "metadata": {},
   "source": [
    "There are a couple of neighborhoods with zero toxic releases into the water so we're displaying them as zipcodes\n",
    "\n",
    "1. 15204 (0)\n",
    "2. 15219 (0)\n",
    "3. 15233 (0)\n",
    "4. 15275 (0)\n",
    "5. 15226 (21)"
   ]
  },
  {
   "cell_type": "code",
   "execution_count": null,
   "id": "3503b6bd-cd3e-415f-a834-ae7b6a5e80e3",
   "metadata": {},
   "outputs": [],
   "source": []
  }
 ],
 "metadata": {
  "kernelspec": {
   "display_name": "Python 3 (ipykernel)",
   "language": "python",
   "name": "python3"
  },
  "language_info": {
   "codemirror_mode": {
    "name": "ipython",
    "version": 3
   },
   "file_extension": ".py",
   "mimetype": "text/x-python",
   "name": "python",
   "nbconvert_exporter": "python",
   "pygments_lexer": "ipython3",
   "version": "3.11.10"
  }
 },
 "nbformat": 4,
 "nbformat_minor": 5
}
