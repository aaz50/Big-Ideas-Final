{
 "cells": [
  {
   "cell_type": "markdown",
   "id": "23bcc831-f0b5-4df5-8c77-22507d754761",
   "metadata": {},
   "source": [
    "# Water Toxin Releases in Pittsburgh"
   ]
  },
  {
   "cell_type": "markdown",
   "id": "59467c76-6b8f-4699-9f2d-ba4bd0cc0c54",
   "metadata": {},
   "source": [
    "The WPRDC Toxic Releases in water provides a dataset that lets you see the total release of chemicals per lb into the water by different facilities. This information allows you to determine what neighborhoods has cleanest water with the least pollutants. It also helps you identify the neighborhoods with high amounts of toxic releases, making sure you avoid drinking water from them. "
   ]
  },
  {
   "cell_type": "markdown",
   "id": "77d0d289-57db-4ae6-a0f0-1c4491b2413f",
   "metadata": {},
   "source": [
    "Start by importing pandas and reading in the data "
   ]
  },
  {
   "cell_type": "code",
   "execution_count": 35,
   "id": "ae8ae489-7883-4586-9b53-6a2ebdc0e28e",
   "metadata": {},
   "outputs": [
    {
     "ename": "FileNotFoundError",
     "evalue": "[Errno 2] No such file or directory: 'WaterToxins.csv'",
     "output_type": "error",
     "traceback": [
      "\u001b[1;31m---------------------------------------------------------------------------\u001b[0m",
      "\u001b[1;31mFileNotFoundError\u001b[0m                         Traceback (most recent call last)",
      "Cell \u001b[1;32mIn[35], line 4\u001b[0m\n\u001b[0;32m      1\u001b[0m \u001b[38;5;28;01mimport\u001b[39;00m \u001b[38;5;21;01mpandas\u001b[39;00m \u001b[38;5;28;01mas\u001b[39;00m \u001b[38;5;21;01mpd\u001b[39;00m\n\u001b[1;32m----> 4\u001b[0m watertoxdata \u001b[38;5;241m=\u001b[39m pd\u001b[38;5;241m.\u001b[39mread_csv(\u001b[38;5;124m\"\u001b[39m\u001b[38;5;124mWaterToxins.csv\u001b[39m\u001b[38;5;124m\"\u001b[39m)\n",
      "File \u001b[1;32m~\\Downloads\\UPITT 2024\\CMPINF10\\Anaconda3\\Lib\\site-packages\\pandas\\io\\parsers\\readers.py:1026\u001b[0m, in \u001b[0;36mread_csv\u001b[1;34m(filepath_or_buffer, sep, delimiter, header, names, index_col, usecols, dtype, engine, converters, true_values, false_values, skipinitialspace, skiprows, skipfooter, nrows, na_values, keep_default_na, na_filter, verbose, skip_blank_lines, parse_dates, infer_datetime_format, keep_date_col, date_parser, date_format, dayfirst, cache_dates, iterator, chunksize, compression, thousands, decimal, lineterminator, quotechar, quoting, doublequote, escapechar, comment, encoding, encoding_errors, dialect, on_bad_lines, delim_whitespace, low_memory, memory_map, float_precision, storage_options, dtype_backend)\u001b[0m\n\u001b[0;32m   1013\u001b[0m kwds_defaults \u001b[38;5;241m=\u001b[39m _refine_defaults_read(\n\u001b[0;32m   1014\u001b[0m     dialect,\n\u001b[0;32m   1015\u001b[0m     delimiter,\n\u001b[1;32m   (...)\u001b[0m\n\u001b[0;32m   1022\u001b[0m     dtype_backend\u001b[38;5;241m=\u001b[39mdtype_backend,\n\u001b[0;32m   1023\u001b[0m )\n\u001b[0;32m   1024\u001b[0m kwds\u001b[38;5;241m.\u001b[39mupdate(kwds_defaults)\n\u001b[1;32m-> 1026\u001b[0m \u001b[38;5;28;01mreturn\u001b[39;00m _read(filepath_or_buffer, kwds)\n",
      "File \u001b[1;32m~\\Downloads\\UPITT 2024\\CMPINF10\\Anaconda3\\Lib\\site-packages\\pandas\\io\\parsers\\readers.py:620\u001b[0m, in \u001b[0;36m_read\u001b[1;34m(filepath_or_buffer, kwds)\u001b[0m\n\u001b[0;32m    617\u001b[0m _validate_names(kwds\u001b[38;5;241m.\u001b[39mget(\u001b[38;5;124m\"\u001b[39m\u001b[38;5;124mnames\u001b[39m\u001b[38;5;124m\"\u001b[39m, \u001b[38;5;28;01mNone\u001b[39;00m))\n\u001b[0;32m    619\u001b[0m \u001b[38;5;66;03m# Create the parser.\u001b[39;00m\n\u001b[1;32m--> 620\u001b[0m parser \u001b[38;5;241m=\u001b[39m TextFileReader(filepath_or_buffer, \u001b[38;5;241m*\u001b[39m\u001b[38;5;241m*\u001b[39mkwds)\n\u001b[0;32m    622\u001b[0m \u001b[38;5;28;01mif\u001b[39;00m chunksize \u001b[38;5;129;01mor\u001b[39;00m iterator:\n\u001b[0;32m    623\u001b[0m     \u001b[38;5;28;01mreturn\u001b[39;00m parser\n",
      "File \u001b[1;32m~\\Downloads\\UPITT 2024\\CMPINF10\\Anaconda3\\Lib\\site-packages\\pandas\\io\\parsers\\readers.py:1620\u001b[0m, in \u001b[0;36mTextFileReader.__init__\u001b[1;34m(self, f, engine, **kwds)\u001b[0m\n\u001b[0;32m   1617\u001b[0m     \u001b[38;5;28mself\u001b[39m\u001b[38;5;241m.\u001b[39moptions[\u001b[38;5;124m\"\u001b[39m\u001b[38;5;124mhas_index_names\u001b[39m\u001b[38;5;124m\"\u001b[39m] \u001b[38;5;241m=\u001b[39m kwds[\u001b[38;5;124m\"\u001b[39m\u001b[38;5;124mhas_index_names\u001b[39m\u001b[38;5;124m\"\u001b[39m]\n\u001b[0;32m   1619\u001b[0m \u001b[38;5;28mself\u001b[39m\u001b[38;5;241m.\u001b[39mhandles: IOHandles \u001b[38;5;241m|\u001b[39m \u001b[38;5;28;01mNone\u001b[39;00m \u001b[38;5;241m=\u001b[39m \u001b[38;5;28;01mNone\u001b[39;00m\n\u001b[1;32m-> 1620\u001b[0m \u001b[38;5;28mself\u001b[39m\u001b[38;5;241m.\u001b[39m_engine \u001b[38;5;241m=\u001b[39m \u001b[38;5;28mself\u001b[39m\u001b[38;5;241m.\u001b[39m_make_engine(f, \u001b[38;5;28mself\u001b[39m\u001b[38;5;241m.\u001b[39mengine)\n",
      "File \u001b[1;32m~\\Downloads\\UPITT 2024\\CMPINF10\\Anaconda3\\Lib\\site-packages\\pandas\\io\\parsers\\readers.py:1880\u001b[0m, in \u001b[0;36mTextFileReader._make_engine\u001b[1;34m(self, f, engine)\u001b[0m\n\u001b[0;32m   1878\u001b[0m     \u001b[38;5;28;01mif\u001b[39;00m \u001b[38;5;124m\"\u001b[39m\u001b[38;5;124mb\u001b[39m\u001b[38;5;124m\"\u001b[39m \u001b[38;5;129;01mnot\u001b[39;00m \u001b[38;5;129;01min\u001b[39;00m mode:\n\u001b[0;32m   1879\u001b[0m         mode \u001b[38;5;241m+\u001b[39m\u001b[38;5;241m=\u001b[39m \u001b[38;5;124m\"\u001b[39m\u001b[38;5;124mb\u001b[39m\u001b[38;5;124m\"\u001b[39m\n\u001b[1;32m-> 1880\u001b[0m \u001b[38;5;28mself\u001b[39m\u001b[38;5;241m.\u001b[39mhandles \u001b[38;5;241m=\u001b[39m get_handle(\n\u001b[0;32m   1881\u001b[0m     f,\n\u001b[0;32m   1882\u001b[0m     mode,\n\u001b[0;32m   1883\u001b[0m     encoding\u001b[38;5;241m=\u001b[39m\u001b[38;5;28mself\u001b[39m\u001b[38;5;241m.\u001b[39moptions\u001b[38;5;241m.\u001b[39mget(\u001b[38;5;124m\"\u001b[39m\u001b[38;5;124mencoding\u001b[39m\u001b[38;5;124m\"\u001b[39m, \u001b[38;5;28;01mNone\u001b[39;00m),\n\u001b[0;32m   1884\u001b[0m     compression\u001b[38;5;241m=\u001b[39m\u001b[38;5;28mself\u001b[39m\u001b[38;5;241m.\u001b[39moptions\u001b[38;5;241m.\u001b[39mget(\u001b[38;5;124m\"\u001b[39m\u001b[38;5;124mcompression\u001b[39m\u001b[38;5;124m\"\u001b[39m, \u001b[38;5;28;01mNone\u001b[39;00m),\n\u001b[0;32m   1885\u001b[0m     memory_map\u001b[38;5;241m=\u001b[39m\u001b[38;5;28mself\u001b[39m\u001b[38;5;241m.\u001b[39moptions\u001b[38;5;241m.\u001b[39mget(\u001b[38;5;124m\"\u001b[39m\u001b[38;5;124mmemory_map\u001b[39m\u001b[38;5;124m\"\u001b[39m, \u001b[38;5;28;01mFalse\u001b[39;00m),\n\u001b[0;32m   1886\u001b[0m     is_text\u001b[38;5;241m=\u001b[39mis_text,\n\u001b[0;32m   1887\u001b[0m     errors\u001b[38;5;241m=\u001b[39m\u001b[38;5;28mself\u001b[39m\u001b[38;5;241m.\u001b[39moptions\u001b[38;5;241m.\u001b[39mget(\u001b[38;5;124m\"\u001b[39m\u001b[38;5;124mencoding_errors\u001b[39m\u001b[38;5;124m\"\u001b[39m, \u001b[38;5;124m\"\u001b[39m\u001b[38;5;124mstrict\u001b[39m\u001b[38;5;124m\"\u001b[39m),\n\u001b[0;32m   1888\u001b[0m     storage_options\u001b[38;5;241m=\u001b[39m\u001b[38;5;28mself\u001b[39m\u001b[38;5;241m.\u001b[39moptions\u001b[38;5;241m.\u001b[39mget(\u001b[38;5;124m\"\u001b[39m\u001b[38;5;124mstorage_options\u001b[39m\u001b[38;5;124m\"\u001b[39m, \u001b[38;5;28;01mNone\u001b[39;00m),\n\u001b[0;32m   1889\u001b[0m )\n\u001b[0;32m   1890\u001b[0m \u001b[38;5;28;01massert\u001b[39;00m \u001b[38;5;28mself\u001b[39m\u001b[38;5;241m.\u001b[39mhandles \u001b[38;5;129;01mis\u001b[39;00m \u001b[38;5;129;01mnot\u001b[39;00m \u001b[38;5;28;01mNone\u001b[39;00m\n\u001b[0;32m   1891\u001b[0m f \u001b[38;5;241m=\u001b[39m \u001b[38;5;28mself\u001b[39m\u001b[38;5;241m.\u001b[39mhandles\u001b[38;5;241m.\u001b[39mhandle\n",
      "File \u001b[1;32m~\\Downloads\\UPITT 2024\\CMPINF10\\Anaconda3\\Lib\\site-packages\\pandas\\io\\common.py:873\u001b[0m, in \u001b[0;36mget_handle\u001b[1;34m(path_or_buf, mode, encoding, compression, memory_map, is_text, errors, storage_options)\u001b[0m\n\u001b[0;32m    868\u001b[0m \u001b[38;5;28;01melif\u001b[39;00m \u001b[38;5;28misinstance\u001b[39m(handle, \u001b[38;5;28mstr\u001b[39m):\n\u001b[0;32m    869\u001b[0m     \u001b[38;5;66;03m# Check whether the filename is to be opened in binary mode.\u001b[39;00m\n\u001b[0;32m    870\u001b[0m     \u001b[38;5;66;03m# Binary mode does not support 'encoding' and 'newline'.\u001b[39;00m\n\u001b[0;32m    871\u001b[0m     \u001b[38;5;28;01mif\u001b[39;00m ioargs\u001b[38;5;241m.\u001b[39mencoding \u001b[38;5;129;01mand\u001b[39;00m \u001b[38;5;124m\"\u001b[39m\u001b[38;5;124mb\u001b[39m\u001b[38;5;124m\"\u001b[39m \u001b[38;5;129;01mnot\u001b[39;00m \u001b[38;5;129;01min\u001b[39;00m ioargs\u001b[38;5;241m.\u001b[39mmode:\n\u001b[0;32m    872\u001b[0m         \u001b[38;5;66;03m# Encoding\u001b[39;00m\n\u001b[1;32m--> 873\u001b[0m         handle \u001b[38;5;241m=\u001b[39m \u001b[38;5;28mopen\u001b[39m(\n\u001b[0;32m    874\u001b[0m             handle,\n\u001b[0;32m    875\u001b[0m             ioargs\u001b[38;5;241m.\u001b[39mmode,\n\u001b[0;32m    876\u001b[0m             encoding\u001b[38;5;241m=\u001b[39mioargs\u001b[38;5;241m.\u001b[39mencoding,\n\u001b[0;32m    877\u001b[0m             errors\u001b[38;5;241m=\u001b[39merrors,\n\u001b[0;32m    878\u001b[0m             newline\u001b[38;5;241m=\u001b[39m\u001b[38;5;124m\"\u001b[39m\u001b[38;5;124m\"\u001b[39m,\n\u001b[0;32m    879\u001b[0m         )\n\u001b[0;32m    880\u001b[0m     \u001b[38;5;28;01melse\u001b[39;00m:\n\u001b[0;32m    881\u001b[0m         \u001b[38;5;66;03m# Binary mode\u001b[39;00m\n\u001b[0;32m    882\u001b[0m         handle \u001b[38;5;241m=\u001b[39m \u001b[38;5;28mopen\u001b[39m(handle, ioargs\u001b[38;5;241m.\u001b[39mmode)\n",
      "\u001b[1;31mFileNotFoundError\u001b[0m: [Errno 2] No such file or directory: 'WaterToxins.csv'"
     ]
    }
   ],
   "source": [
    "import pandas as pd\n",
    "\n",
    "\n",
    "watertoxdata = pd.read_csv(\"WaterToxins.csv\")"
   ]
  },
  {
   "cell_type": "markdown",
   "id": "45750c3d-8252-447d-80b4-ffa2f29c82f8",
   "metadata": {},
   "source": [
    "Dataset is for Alleghany County, so we first sort out everything besides the city of Pittsburgh. We also sort out all the columns that are relevant. "
   ]
  },
  {
   "cell_type": "code",
   "execution_count": 14,
   "id": "b13ebc19-eb76-42e7-bec1-312ab9906f0e",
   "metadata": {},
   "outputs": [
    {
     "ename": "NameError",
     "evalue": "name 'watertoxdata' is not defined",
     "output_type": "error",
     "traceback": [
      "\u001b[1;31m---------------------------------------------------------------------------\u001b[0m",
      "\u001b[1;31mNameError\u001b[0m                                 Traceback (most recent call last)",
      "Cell \u001b[1;32mIn[14], line 1\u001b[0m\n\u001b[1;32m----> 1\u001b[0m filtered_data \u001b[38;5;241m=\u001b[39m watertoxdata[watertoxdata[\u001b[38;5;124m'\u001b[39m\u001b[38;5;124mCITY_NAME\u001b[39m\u001b[38;5;124m'\u001b[39m]\u001b[38;5;241m.\u001b[39mstr\u001b[38;5;241m.\u001b[39mcontains(\u001b[38;5;124m'\u001b[39m\u001b[38;5;124mPITTSBURGH\u001b[39m\u001b[38;5;124m'\u001b[39m, case\u001b[38;5;241m=\u001b[39m\u001b[38;5;28;01mFalse\u001b[39;00m, na\u001b[38;5;241m=\u001b[39m\u001b[38;5;28;01mFalse\u001b[39;00m)]\n\u001b[0;32m      2\u001b[0m columns_to_display \u001b[38;5;241m=\u001b[39m [\u001b[38;5;124m'\u001b[39m\u001b[38;5;124mFACILITY_NAME\u001b[39m\u001b[38;5;124m'\u001b[39m, \u001b[38;5;124m'\u001b[39m\u001b[38;5;124mSTREET_ADDRESS\u001b[39m\u001b[38;5;124m'\u001b[39m,  \u001b[38;5;124m'\u001b[39m\u001b[38;5;124mCITY_NAME\u001b[39m\u001b[38;5;124m'\u001b[39m, \u001b[38;5;124m'\u001b[39m\u001b[38;5;124mZIP_CODE\u001b[39m\u001b[38;5;124m'\u001b[39m, \u001b[38;5;124m'\u001b[39m\u001b[38;5;124mCHEM_NAME\u001b[39m\u001b[38;5;124m'\u001b[39m, \u001b[38;5;124m'\u001b[39m\u001b[38;5;124mCARCINOGEN\u001b[39m\u001b[38;5;124m'\u001b[39m, \u001b[38;5;124m'\u001b[39m\u001b[38;5;124mCLEAN_AIR\u001b[39m\u001b[38;5;124m'\u001b[39m, \u001b[38;5;124m'\u001b[39m\u001b[38;5;124mTOTAL_RELEASE\u001b[39m\u001b[38;5;124m'\u001b[39m]\n\u001b[0;32m      3\u001b[0m filtered_data[columns_to_display]\u001b[38;5;241m.\u001b[39mhead()\n",
      "\u001b[1;31mNameError\u001b[0m: name 'watertoxdata' is not defined"
     ]
    }
   ],
   "source": [
    "filtered_data = watertoxdata[watertoxdata['CITY_NAME'].str.contains('PITTSBURGH', case=False, na=False)]\n",
    "columns_to_display = ['FACILITY_NAME', 'STREET_ADDRESS',  'CITY_NAME', 'ZIP_CODE', 'CHEM_NAME', 'CARCINOGEN', 'CLEAN_AIR', 'TOTAL_RELEASE']\n",
    "filtered_data[columns_to_display].head()"
   ]
  },
  {
   "cell_type": "markdown",
   "id": "e68ceae3-dd3f-428a-b1ff-6603ba20e824",
   "metadata": {},
   "source": [
    "Here we sort the data and figure out the zip code with the highest total release of chemicals (per lb) into the water. The majority is from facilities in 15225 which encompasses the Neville Township. We also remove any rows that have a null total release value. A few zip codes that are identical but have extensions are also removed. "
   ]
  },
  {
   "cell_type": "code",
   "execution_count": 17,
   "id": "9d6ec177-42d3-4f89-8cfd-0e80a15e50f9",
   "metadata": {},
   "outputs": [
    {
     "ename": "NameError",
     "evalue": "name 'filtered_data' is not defined",
     "output_type": "error",
     "traceback": [
      "\u001b[1;31m---------------------------------------------------------------------------\u001b[0m",
      "\u001b[1;31mNameError\u001b[0m                                 Traceback (most recent call last)",
      "Cell \u001b[1;32mIn[17], line 1\u001b[0m\n\u001b[1;32m----> 1\u001b[0m filtered_data \u001b[38;5;241m=\u001b[39m filtered_data\u001b[38;5;241m.\u001b[39mdropna(subset\u001b[38;5;241m=\u001b[39m[\u001b[38;5;124m'\u001b[39m\u001b[38;5;124mTOTAL_RELEASE\u001b[39m\u001b[38;5;124m'\u001b[39m])\n\u001b[0;32m      3\u001b[0m filtered_data \u001b[38;5;241m=\u001b[39m filtered_data[filtered_data[\u001b[38;5;124m'\u001b[39m\u001b[38;5;124mZIP_CODE\u001b[39m\u001b[38;5;124m'\u001b[39m] \u001b[38;5;241m!=\u001b[39m \u001b[38;5;241m152251516\u001b[39m]\n\u001b[0;32m      4\u001b[0m filtered_data \u001b[38;5;241m=\u001b[39m filtered_data[filtered_data[\u001b[38;5;124m'\u001b[39m\u001b[38;5;124mZIP_CODE\u001b[39m\u001b[38;5;124m'\u001b[39m] \u001b[38;5;241m!=\u001b[39m \u001b[38;5;241m152042599\u001b[39m]\n",
      "\u001b[1;31mNameError\u001b[0m: name 'filtered_data' is not defined"
     ]
    }
   ],
   "source": [
    "filtered_data = filtered_data.dropna(subset=['TOTAL_RELEASE'])\n",
    "\n",
    "filtered_data = filtered_data[filtered_data['ZIP_CODE'] != 152251516]\n",
    "filtered_data = filtered_data[filtered_data['ZIP_CODE'] != 152042599]\n",
    "filtered_data = filtered_data[filtered_data['ZIP_CODE'] != 152206246]\n",
    "filtered_data = filtered_data[filtered_data['ZIP_CODE'] != 152342624]\n",
    "\n",
    "\n",
    "filtered_data = filtered_data.sort_values(by='TOTAL_RELEASE', ascending=False)\n",
    "filtered_data[columns_to_display].head()\n"
   ]
  },
  {
   "cell_type": "markdown",
   "id": "12d3c76a-fbba-430c-a31f-550b046affe8",
   "metadata": {},
   "source": [
    "We group together the total releases of each zipcode to make the data more centralized. "
   ]
  },
  {
   "cell_type": "code",
   "execution_count": 20,
   "id": "f117ed82-70f3-404c-b537-5bdbb3676508",
   "metadata": {},
   "outputs": [
    {
     "ename": "NameError",
     "evalue": "name 'filtered_data' is not defined",
     "output_type": "error",
     "traceback": [
      "\u001b[1;31m---------------------------------------------------------------------------\u001b[0m",
      "\u001b[1;31mNameError\u001b[0m                                 Traceback (most recent call last)",
      "Cell \u001b[1;32mIn[20], line 1\u001b[0m\n\u001b[1;32m----> 1\u001b[0m zip_code_totals \u001b[38;5;241m=\u001b[39m filtered_data\u001b[38;5;241m.\u001b[39mgroupby(\u001b[38;5;124m'\u001b[39m\u001b[38;5;124mZIP_CODE\u001b[39m\u001b[38;5;124m'\u001b[39m)[\u001b[38;5;124m'\u001b[39m\u001b[38;5;124mTOTAL_RELEASE\u001b[39m\u001b[38;5;124m'\u001b[39m]\u001b[38;5;241m.\u001b[39msum()\n",
      "\u001b[1;31mNameError\u001b[0m: name 'filtered_data' is not defined"
     ]
    }
   ],
   "source": [
    "zip_code_totals = filtered_data.groupby('ZIP_CODE')['TOTAL_RELEASE'].sum()"
   ]
  },
  {
   "cell_type": "markdown",
   "id": "2d937629-61bb-45a2-bdbc-9d7dfb0a1145",
   "metadata": {},
   "source": [
    "We find the zip codes with the most total releases (worst ones to live at)"
   ]
  },
  {
   "cell_type": "code",
   "execution_count": 23,
   "id": "42effaa7-b847-4f50-b88b-754c5e59ceba",
   "metadata": {},
   "outputs": [
    {
     "ename": "NameError",
     "evalue": "name 'zip_code_totals' is not defined",
     "output_type": "error",
     "traceback": [
      "\u001b[1;31m---------------------------------------------------------------------------\u001b[0m",
      "\u001b[1;31mNameError\u001b[0m                                 Traceback (most recent call last)",
      "Cell \u001b[1;32mIn[23], line 1\u001b[0m\n\u001b[1;32m----> 1\u001b[0m worst_zip_codes \u001b[38;5;241m=\u001b[39m zip_code_totals\u001b[38;5;241m.\u001b[39msort_values(ascending\u001b[38;5;241m=\u001b[39m\u001b[38;5;28;01mFalse\u001b[39;00m)\u001b[38;5;241m.\u001b[39mhead(\u001b[38;5;241m5\u001b[39m)\n\u001b[0;32m      2\u001b[0m worst_zip_codes\n",
      "\u001b[1;31mNameError\u001b[0m: name 'zip_code_totals' is not defined"
     ]
    }
   ],
   "source": [
    "worst_zip_codes = zip_code_totals.sort_values(ascending=False).head(5)\n",
    "worst_zip_codes"
   ]
  },
  {
   "cell_type": "markdown",
   "id": "49e82ed6-a916-400c-a7ca-7e33a2077113",
   "metadata": {},
   "source": [
    "Here the zipcodes we replace the zipcodes with neighborhoods. The second line of code converts the keys in the zip_to_name dictionary to integers and keeps the corresponding values the same. This is needed as the zip codes cannot be used as an index without being integers.  "
   ]
  },
  {
   "cell_type": "code",
   "execution_count": 26,
   "id": "21c745f4-5528-4361-b5e3-66385fd3f933",
   "metadata": {},
   "outputs": [
    {
     "ename": "NameError",
     "evalue": "name 'worst_zip_codes' is not defined",
     "output_type": "error",
     "traceback": [
      "\u001b[1;31m---------------------------------------------------------------------------\u001b[0m",
      "\u001b[1;31mNameError\u001b[0m                                 Traceback (most recent call last)",
      "Cell \u001b[1;32mIn[26], line 11\u001b[0m\n\u001b[0;32m      1\u001b[0m zip_to_name \u001b[38;5;241m=\u001b[39m {\n\u001b[0;32m      2\u001b[0m     \u001b[38;5;124m'\u001b[39m\u001b[38;5;124m15525\u001b[39m\u001b[38;5;124m'\u001b[39m: \u001b[38;5;124m\"\u001b[39m\u001b[38;5;124mNeville\u001b[39m\u001b[38;5;124m\"\u001b[39m,\n\u001b[0;32m      3\u001b[0m     \u001b[38;5;124m'\u001b[39m\u001b[38;5;124m15207\u001b[39m\u001b[38;5;124m'\u001b[39m: \u001b[38;5;124m'\u001b[39m\u001b[38;5;124mGreenfield, New Homestead, Lincoln Place, Glen Hazel, Hazelwood, Hays\u001b[39m\u001b[38;5;124m'\u001b[39m,\n\u001b[1;32m   (...)\u001b[0m\n\u001b[0;32m      6\u001b[0m     \u001b[38;5;124m'\u001b[39m\u001b[38;5;124m15226\u001b[39m\u001b[38;5;124m'\u001b[39m: \u001b[38;5;124m'\u001b[39m\u001b[38;5;124mBrookline, Overbrook, Beechview, Bon Air, Baldwin\u001b[39m\u001b[38;5;124m'\u001b[39m\n\u001b[0;32m      7\u001b[0m }\n\u001b[0;32m      9\u001b[0m zip_to_name \u001b[38;5;241m=\u001b[39m {\u001b[38;5;28mint\u001b[39m(i): v \u001b[38;5;28;01mfor\u001b[39;00m i, v \u001b[38;5;129;01min\u001b[39;00m zip_to_name\u001b[38;5;241m.\u001b[39mitems()}\n\u001b[1;32m---> 11\u001b[0m worst_neighborhoods \u001b[38;5;241m=\u001b[39m worst_zip_codes\u001b[38;5;241m.\u001b[39mrename(index\u001b[38;5;241m=\u001b[39mzip_to_name)\n\u001b[0;32m     13\u001b[0m worst_neighborhoods\n",
      "\u001b[1;31mNameError\u001b[0m: name 'worst_zip_codes' is not defined"
     ]
    }
   ],
   "source": [
    "zip_to_name = {\n",
    "    '15525': \"Neville\",\n",
    "    '15207': 'Greenfield, New Homestead, Lincoln Place, Glen Hazel, Hazelwood, Hays',\n",
    "    '15201': 'Central Lawrenceville, Lower Lawrenceville, Upper Lawrenceville, Stanton Heights, Polish Hill',\n",
    "    '15236': 'Pleasant HIlls, South Park, Whitehall, Baldwin',\n",
    "    '15226': 'Brookline, Overbrook, Beechview, Bon Air, Baldwin'\n",
    "}\n",
    "\n",
    "zip_to_name = {int(i): v for i, v in zip_to_name.items()}\n",
    "\n",
    "worst_neighborhoods = worst_zip_codes.rename(index=zip_to_name)\n",
    "\n",
    "worst_neighborhoods"
   ]
  },
  {
   "cell_type": "markdown",
   "id": "45ad6a98-e973-4baa-b452-7442b6f5e8ed",
   "metadata": {},
   "source": [
    "Now these are the best zipcodes with no releases into the water at all. "
   ]
  },
  {
   "cell_type": "code",
   "execution_count": 473,
   "id": "2c7525bb-aba4-4e3b-904c-7cf177dd42b6",
   "metadata": {},
   "outputs": [
    {
     "data": {
      "text/plain": [
       "ZIP_CODE\n",
       "15204     0.0\n",
       "15219     0.0\n",
       "15233     0.0\n",
       "15275     0.0\n",
       "15226    21.0\n",
       "Name: TOTAL_RELEASE, dtype: float64"
      ]
     },
     "execution_count": 473,
     "metadata": {},
     "output_type": "execute_result"
    }
   ],
   "source": [
    "top_zip_codes = zip_code_totals.sort_values(ascending=True).head(5)\n",
    "top_zip_codes"
   ]
  },
  {
   "cell_type": "markdown",
   "id": "0d1b318c-9a2e-4437-84d7-61521b8eb7fd",
   "metadata": {},
   "source": [
    "Here we display them as neighboorhoods. "
   ]
  },
  {
   "cell_type": "code",
   "execution_count": 477,
   "id": "76ed2478-c7af-4e06-8435-f27c6d219e41",
   "metadata": {},
   "outputs": [
    {
     "data": {
      "text/plain": [
       "ZIP_CODE\n",
       "Crafton Heights, Windgap, Chartiers, Sheraden, Esplen                           0.0\n",
       "Market Square, Cultural District, The Point, West Oakland, Crawford-Roberts     0.0\n",
       "Central Northside, Marshall-Shadeland, Allegheny West, Manchester               0.0\n",
       "North Fayette                                                                   0.0\n",
       "Brookline, Overbrook, Beechview, Bon Air, Baldwin                              21.0\n",
       "Name: TOTAL_RELEASE, dtype: float64"
      ]
     },
     "execution_count": 477,
     "metadata": {},
     "output_type": "execute_result"
    }
   ],
   "source": [
    "zip_name = {\n",
    "    '15204': 'Crafton Heights, Windgap, Chartiers, Sheraden, Esplen',\n",
    "    '15219': 'Market Square, Cultural District, The Point, West Oakland, Crawford-Roberts',\n",
    "    '15233': 'Central Northside, Marshall-Shadeland, Allegheny West, Manchester',\n",
    "    '15275': 'North Fayette',\n",
    "    '15226': 'Brookline, Overbrook, Beechview, Bon Air, Baldwin'\n",
    "}\n",
    "\n",
    "zip_name = {int(i): v for i, v in zip_name.items()}\n",
    "top_neighborhoods = top_zip_codes.rename(index=zip_name)\n"
   ]
  },
  {
   "cell_type": "markdown",
   "id": "173daf86-3a67-409c-91ee-cd7a1ed716cd",
   "metadata": {},
   "source": [
    "# Conclusion"
   ]
  },
  {
   "cell_type": "markdown",
   "id": "54c8af29-8685-4460-bd99-d421c8f82079",
   "metadata": {},
   "source": [
    "There are a couple of neighborhoods with zero toxic releases into the water so we displaye"
   ]
  }
 ],
 "metadata": {
  "kernelspec": {
   "display_name": "Python 3 (ipykernel)",
   "language": "python",
   "name": "python3"
  },
  "language_info": {
   "codemirror_mode": {
    "name": "ipython",
    "version": 3
   },
   "file_extension": ".py",
   "mimetype": "text/x-python",
   "name": "python",
   "nbconvert_exporter": "python",
   "pygments_lexer": "ipython3",
   "version": "3.12.4"
  }
 },
 "nbformat": 4,
 "nbformat_minor": 5
}
