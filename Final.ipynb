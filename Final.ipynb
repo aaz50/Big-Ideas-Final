{
 "cells": [
  {
   "cell_type": "markdown",
   "id": "f69985c9-b957-4a7b-a1f3-8c957184a7c2",
   "metadata": {},
   "source": [
    "# Ease of Disaster / Incident Avoidance as a Metric\n",
    "\n",
    "Our group decided to use disaster/incident avoidance as its metric for determining which neighborhood is the best. We split this metric across three datasets: Fire Incidents, Speed Humps, and Water Toxins. We can use these to determine which neighbor hood is the best to avoid this kinds of issues.\n",
    "\n",
    "We initially were going to look at flood data and landslide data, but the datasets were not helpful in determining which neighborhoods were better than others, either because too many lacked data, or the granularity of the data was too large."
   ]
  },
  {
   "cell_type": "markdown",
   "id": "cb3e7597-08d0-4b3a-9c26-5a45122bd0f3",
   "metadata": {},
   "source": [
    "Here we just import common libraries."
   ]
  },
  {
   "cell_type": "code",
   "execution_count": 1,
   "id": "6bd708fa-dc83-47de-9789-717cf3c81040",
   "metadata": {},
   "outputs": [],
   "source": [
    "import pandas as pd\n",
    "import matplotlib.pyplot as plt\n",
    "%matplotlib inline"
   ]
  },
  {
   "cell_type": "markdown",
   "id": "1c554f5d-6bbb-4a93-855c-8495e78a4d67",
   "metadata": {},
   "source": [
    "# Fire Incidents\n",
    "\n",
    "WPRDC offers a dataset containing data for fire incidents responded to by the Pittsburgh Bureau of Fire\n",
    "(https://data.wprdc.org/dataset/fire-incidents-in-city-of-pittsburgh). By leveraging this dataset, we can determine which neighborhoods have the least amount of fire incidents, making sure we are less vulnerable to fire spreading to our lovely home (because house fires only happen to *other* people)."
   ]
  },
  {
   "cell_type": "markdown",
   "id": "62c9d041-2dfe-443d-93c1-5c1ea6c86ed0",
   "metadata": {},
   "source": [
    "First we load our dataset."
   ]
  },
  {
   "cell_type": "code",
   "execution_count": 2,
   "id": "75386e10-e5fc-4701-afa6-19c5ea4559eb",
   "metadata": {},
   "outputs": [],
   "source": [
    "# Dataset on fire incidents.\n",
    "fires = pd.read_csv('https://data.wprdc.org/datastore/dump/8d76ac6b-5ae8-4428-82a4-043130d17b02')"
   ]
  },
  {
   "cell_type": "markdown",
   "id": "08915c78-c005-4012-a28e-6fed64c7dee0",
   "metadata": {},
   "source": [
    "Let's take a peek at what we're looking at!"
   ]
  },
  {
   "cell_type": "code",
   "execution_count": 3,
   "id": "ea90ea33-41e8-4e4a-9409-3682a6b27196",
   "metadata": {},
   "outputs": [
    {
     "data": {
      "text/html": [
       "<div>\n",
       "<style scoped>\n",
       "    .dataframe tbody tr th:only-of-type {\n",
       "        vertical-align: middle;\n",
       "    }\n",
       "\n",
       "    .dataframe tbody tr th {\n",
       "        vertical-align: top;\n",
       "    }\n",
       "\n",
       "    .dataframe thead th {\n",
       "        text-align: right;\n",
       "    }\n",
       "</style>\n",
       "<table border=\"1\" class=\"dataframe\">\n",
       "  <thead>\n",
       "    <tr style=\"text-align: right;\">\n",
       "      <th></th>\n",
       "      <th>_id</th>\n",
       "      <th>call_no</th>\n",
       "      <th>incident_type</th>\n",
       "      <th>type_description</th>\n",
       "      <th>address</th>\n",
       "      <th>alarms</th>\n",
       "      <th>alarm_time</th>\n",
       "      <th>primary_unit</th>\n",
       "      <th>census_tract</th>\n",
       "      <th>neighborhood</th>\n",
       "      <th>council_district</th>\n",
       "      <th>ward</th>\n",
       "      <th>tract</th>\n",
       "      <th>public_works_division</th>\n",
       "      <th>pli_division</th>\n",
       "      <th>police_zone</th>\n",
       "      <th>fire_zone</th>\n",
       "      <th>latitude</th>\n",
       "      <th>longitude</th>\n",
       "    </tr>\n",
       "  </thead>\n",
       "  <tbody>\n",
       "    <tr>\n",
       "      <th>0</th>\n",
       "      <td>1</td>\n",
       "      <td>F160029985</td>\n",
       "      <td>111.0</td>\n",
       "      <td>Building fire</td>\n",
       "      <td>800 BLOCK CENTER ST, WILKINSBURG PA 15221</td>\n",
       "      <td>1</td>\n",
       "      <td>2016-04-21T05:01:04</td>\n",
       "      <td>231EN16</td>\n",
       "      <td>NaN</td>\n",
       "      <td>NaN</td>\n",
       "      <td>NaN</td>\n",
       "      <td>NaN</td>\n",
       "      <td>4.200356e+10</td>\n",
       "      <td>NaN</td>\n",
       "      <td>NaN</td>\n",
       "      <td>NaN</td>\n",
       "      <td>3-16</td>\n",
       "      <td>40.441275</td>\n",
       "      <td>-79.882485</td>\n",
       "    </tr>\n",
       "    <tr>\n",
       "      <th>1</th>\n",
       "      <td>2</td>\n",
       "      <td>F180022058</td>\n",
       "      <td>111.0</td>\n",
       "      <td>Building fire</td>\n",
       "      <td>1100 BLOCK JANE ST, WILKINSBURG PA 15221</td>\n",
       "      <td>1</td>\n",
       "      <td>2018-03-13T08:34:43</td>\n",
       "      <td>231EN16</td>\n",
       "      <td>NaN</td>\n",
       "      <td>NaN</td>\n",
       "      <td>NaN</td>\n",
       "      <td>NaN</td>\n",
       "      <td>4.200356e+10</td>\n",
       "      <td>NaN</td>\n",
       "      <td>NaN</td>\n",
       "      <td>NaN</td>\n",
       "      <td>3-21</td>\n",
       "      <td>40.436342</td>\n",
       "      <td>-79.881003</td>\n",
       "    </tr>\n",
       "    <tr>\n",
       "      <th>2</th>\n",
       "      <td>3</td>\n",
       "      <td>F180022102</td>\n",
       "      <td>131.0</td>\n",
       "      <td>Passenger vehicle fire</td>\n",
       "      <td>SB STATE HWY 28 SB AT 31S, PITTSBURGH PA 15212</td>\n",
       "      <td>0</td>\n",
       "      <td>2018-03-13T11:54:23</td>\n",
       "      <td>231EN32</td>\n",
       "      <td>2406.0</td>\n",
       "      <td>NaN</td>\n",
       "      <td>NaN</td>\n",
       "      <td>NaN</td>\n",
       "      <td>NaN</td>\n",
       "      <td>NaN</td>\n",
       "      <td>NaN</td>\n",
       "      <td>NaN</td>\n",
       "      <td>1-1A</td>\n",
       "      <td>NaN</td>\n",
       "      <td>NaN</td>\n",
       "    </tr>\n",
       "    <tr>\n",
       "      <th>3</th>\n",
       "      <td>4</td>\n",
       "      <td>F170043431</td>\n",
       "      <td>131.0</td>\n",
       "      <td>Passenger vehicle fire</td>\n",
       "      <td>1700 BLOCK BELLEAU DR, PITTSBURGH PA 15212</td>\n",
       "      <td>0</td>\n",
       "      <td>2017-05-31T08:39:47</td>\n",
       "      <td>231EN38</td>\n",
       "      <td>2509.0</td>\n",
       "      <td>Fineview</td>\n",
       "      <td>6.0</td>\n",
       "      <td>25.0</td>\n",
       "      <td>4.200325e+10</td>\n",
       "      <td>1.0</td>\n",
       "      <td>25.0</td>\n",
       "      <td>1.0</td>\n",
       "      <td>1-10</td>\n",
       "      <td>40.460303</td>\n",
       "      <td>-80.006980</td>\n",
       "    </tr>\n",
       "    <tr>\n",
       "      <th>4</th>\n",
       "      <td>5</td>\n",
       "      <td>F180021111</td>\n",
       "      <td>111.0</td>\n",
       "      <td>Building fire</td>\n",
       "      <td>2400 BLOCK VILLAGE RD, PITTSBURGH PA 15205</td>\n",
       "      <td>1</td>\n",
       "      <td>2018-03-09T10:26:42</td>\n",
       "      <td>231EN31</td>\n",
       "      <td>2808.0</td>\n",
       "      <td>Fairywood</td>\n",
       "      <td>2.0</td>\n",
       "      <td>28.0</td>\n",
       "      <td>4.200356e+10</td>\n",
       "      <td>5.0</td>\n",
       "      <td>28.0</td>\n",
       "      <td>6.0</td>\n",
       "      <td>1-16</td>\n",
       "      <td>40.449009</td>\n",
       "      <td>-80.076607</td>\n",
       "    </tr>\n",
       "  </tbody>\n",
       "</table>\n",
       "</div>"
      ],
      "text/plain": [
       "   _id     call_no  incident_type        type_description   \n",
       "0    1  F160029985          111.0           Building fire  \\\n",
       "1    2  F180022058          111.0           Building fire   \n",
       "2    3  F180022102          131.0  Passenger vehicle fire   \n",
       "3    4  F170043431          131.0  Passenger vehicle fire   \n",
       "4    5  F180021111          111.0           Building fire   \n",
       "\n",
       "                                          address  alarms   \n",
       "0       800 BLOCK CENTER ST, WILKINSBURG PA 15221       1  \\\n",
       "1        1100 BLOCK JANE ST, WILKINSBURG PA 15221       1   \n",
       "2  SB STATE HWY 28 SB AT 31S, PITTSBURGH PA 15212       0   \n",
       "3      1700 BLOCK BELLEAU DR, PITTSBURGH PA 15212       0   \n",
       "4      2400 BLOCK VILLAGE RD, PITTSBURGH PA 15205       1   \n",
       "\n",
       "            alarm_time primary_unit  census_tract neighborhood   \n",
       "0  2016-04-21T05:01:04      231EN16           NaN          NaN  \\\n",
       "1  2018-03-13T08:34:43      231EN16           NaN          NaN   \n",
       "2  2018-03-13T11:54:23      231EN32        2406.0          NaN   \n",
       "3  2017-05-31T08:39:47      231EN38        2509.0     Fineview   \n",
       "4  2018-03-09T10:26:42      231EN31        2808.0    Fairywood   \n",
       "\n",
       "   council_district  ward         tract  public_works_division  pli_division   \n",
       "0               NaN   NaN  4.200356e+10                    NaN           NaN  \\\n",
       "1               NaN   NaN  4.200356e+10                    NaN           NaN   \n",
       "2               NaN   NaN           NaN                    NaN           NaN   \n",
       "3               6.0  25.0  4.200325e+10                    1.0          25.0   \n",
       "4               2.0  28.0  4.200356e+10                    5.0          28.0   \n",
       "\n",
       "   police_zone fire_zone   latitude  longitude  \n",
       "0          NaN      3-16  40.441275 -79.882485  \n",
       "1          NaN      3-21  40.436342 -79.881003  \n",
       "2          NaN      1-1A        NaN        NaN  \n",
       "3          1.0      1-10  40.460303 -80.006980  \n",
       "4          6.0      1-16  40.449009 -80.076607  "
      ]
     },
     "execution_count": 3,
     "metadata": {},
     "output_type": "execute_result"
    }
   ],
   "source": [
    "fires.head(5)"
   ]
  },
  {
   "cell_type": "markdown",
   "id": "52988ff3-526b-4788-a37b-e7d94c2cc964",
   "metadata": {},
   "source": [
    "First thing we have to do is clean the data. There are some rows that have no data for the neighborhood column, which is the most important one for us. So, let's get rid of those useless rows."
   ]
  },
  {
   "cell_type": "code",
   "execution_count": 4,
   "id": "597a24fc-bfb9-4947-ada8-f6f7112f67a7",
   "metadata": {},
   "outputs": [
    {
     "data": {
      "text/html": [
       "<div>\n",
       "<style scoped>\n",
       "    .dataframe tbody tr th:only-of-type {\n",
       "        vertical-align: middle;\n",
       "    }\n",
       "\n",
       "    .dataframe tbody tr th {\n",
       "        vertical-align: top;\n",
       "    }\n",
       "\n",
       "    .dataframe thead th {\n",
       "        text-align: right;\n",
       "    }\n",
       "</style>\n",
       "<table border=\"1\" class=\"dataframe\">\n",
       "  <thead>\n",
       "    <tr style=\"text-align: right;\">\n",
       "      <th></th>\n",
       "      <th>_id</th>\n",
       "      <th>call_no</th>\n",
       "      <th>incident_type</th>\n",
       "      <th>type_description</th>\n",
       "      <th>address</th>\n",
       "      <th>alarms</th>\n",
       "      <th>alarm_time</th>\n",
       "      <th>primary_unit</th>\n",
       "      <th>census_tract</th>\n",
       "      <th>neighborhood</th>\n",
       "      <th>council_district</th>\n",
       "      <th>ward</th>\n",
       "      <th>tract</th>\n",
       "      <th>public_works_division</th>\n",
       "      <th>pli_division</th>\n",
       "      <th>police_zone</th>\n",
       "      <th>fire_zone</th>\n",
       "      <th>latitude</th>\n",
       "      <th>longitude</th>\n",
       "    </tr>\n",
       "  </thead>\n",
       "  <tbody>\n",
       "    <tr>\n",
       "      <th>0</th>\n",
       "      <td>4</td>\n",
       "      <td>F170043431</td>\n",
       "      <td>131.0</td>\n",
       "      <td>Passenger vehicle fire</td>\n",
       "      <td>1700 BLOCK BELLEAU DR, PITTSBURGH PA 15212</td>\n",
       "      <td>0</td>\n",
       "      <td>2017-05-31T08:39:47</td>\n",
       "      <td>231EN38</td>\n",
       "      <td>2509.0</td>\n",
       "      <td>Fineview</td>\n",
       "      <td>6.0</td>\n",
       "      <td>25.0</td>\n",
       "      <td>4.200325e+10</td>\n",
       "      <td>1.0</td>\n",
       "      <td>25.0</td>\n",
       "      <td>1.0</td>\n",
       "      <td>1-10</td>\n",
       "      <td>40.460303</td>\n",
       "      <td>-80.006980</td>\n",
       "    </tr>\n",
       "    <tr>\n",
       "      <th>1</th>\n",
       "      <td>5</td>\n",
       "      <td>F180021111</td>\n",
       "      <td>111.0</td>\n",
       "      <td>Building fire</td>\n",
       "      <td>2400 BLOCK VILLAGE RD, PITTSBURGH PA 15205</td>\n",
       "      <td>1</td>\n",
       "      <td>2018-03-09T10:26:42</td>\n",
       "      <td>231EN31</td>\n",
       "      <td>2808.0</td>\n",
       "      <td>Fairywood</td>\n",
       "      <td>2.0</td>\n",
       "      <td>28.0</td>\n",
       "      <td>4.200356e+10</td>\n",
       "      <td>5.0</td>\n",
       "      <td>28.0</td>\n",
       "      <td>6.0</td>\n",
       "      <td>1-16</td>\n",
       "      <td>40.449009</td>\n",
       "      <td>-80.076607</td>\n",
       "    </tr>\n",
       "    <tr>\n",
       "      <th>2</th>\n",
       "      <td>6</td>\n",
       "      <td>F180021782</td>\n",
       "      <td>150.0</td>\n",
       "      <td>Outside rubbish fire, Other</td>\n",
       "      <td>S 7TH ST &amp; E CARSON ST, PITTSBURGH PA 15203</td>\n",
       "      <td>0</td>\n",
       "      <td>2018-03-12T09:13:28</td>\n",
       "      <td>231EN24</td>\n",
       "      <td>1702.0</td>\n",
       "      <td>South Side Flats</td>\n",
       "      <td>3.0</td>\n",
       "      <td>17.0</td>\n",
       "      <td>4.200317e+10</td>\n",
       "      <td>4.0</td>\n",
       "      <td>17.0</td>\n",
       "      <td>3.0</td>\n",
       "      <td>4-2</td>\n",
       "      <td>40.428618</td>\n",
       "      <td>-79.992239</td>\n",
       "    </tr>\n",
       "    <tr>\n",
       "      <th>3</th>\n",
       "      <td>7</td>\n",
       "      <td>F180022495</td>\n",
       "      <td>113.0</td>\n",
       "      <td>Cooking fire, confined to container</td>\n",
       "      <td>200 BLOCK E OHIO ST, PITTSBURGH PA 15212</td>\n",
       "      <td>1</td>\n",
       "      <td>2018-03-14T19:46:10</td>\n",
       "      <td>231EN32</td>\n",
       "      <td>2204.0</td>\n",
       "      <td>Allegheny Center</td>\n",
       "      <td>1.0</td>\n",
       "      <td>22.0</td>\n",
       "      <td>4.200356e+10</td>\n",
       "      <td>1.0</td>\n",
       "      <td>22.0</td>\n",
       "      <td>1.0</td>\n",
       "      <td>1-6</td>\n",
       "      <td>40.453022</td>\n",
       "      <td>-80.003660</td>\n",
       "    </tr>\n",
       "    <tr>\n",
       "      <th>4</th>\n",
       "      <td>8</td>\n",
       "      <td>F180022546</td>\n",
       "      <td>111.0</td>\n",
       "      <td>Building fire</td>\n",
       "      <td>7000 BLOCK LEMINGTON AVE, PITTSBURGH PA 15206</td>\n",
       "      <td>1</td>\n",
       "      <td>2018-03-14T23:49:22</td>\n",
       "      <td>231EN15</td>\n",
       "      <td>1203.0</td>\n",
       "      <td>Lincoln-Lemington-Belmar</td>\n",
       "      <td>9.0</td>\n",
       "      <td>12.0</td>\n",
       "      <td>4.200312e+10</td>\n",
       "      <td>2.0</td>\n",
       "      <td>12.0</td>\n",
       "      <td>5.0</td>\n",
       "      <td>3-18</td>\n",
       "      <td>40.471358</td>\n",
       "      <td>-79.898240</td>\n",
       "    </tr>\n",
       "  </tbody>\n",
       "</table>\n",
       "</div>"
      ],
      "text/plain": [
       "   _id     call_no  incident_type                     type_description   \n",
       "0    4  F170043431          131.0               Passenger vehicle fire  \\\n",
       "1    5  F180021111          111.0                        Building fire   \n",
       "2    6  F180021782          150.0          Outside rubbish fire, Other   \n",
       "3    7  F180022495          113.0  Cooking fire, confined to container   \n",
       "4    8  F180022546          111.0                        Building fire   \n",
       "\n",
       "                                         address  alarms           alarm_time   \n",
       "0     1700 BLOCK BELLEAU DR, PITTSBURGH PA 15212       0  2017-05-31T08:39:47  \\\n",
       "1     2400 BLOCK VILLAGE RD, PITTSBURGH PA 15205       1  2018-03-09T10:26:42   \n",
       "2    S 7TH ST & E CARSON ST, PITTSBURGH PA 15203       0  2018-03-12T09:13:28   \n",
       "3       200 BLOCK E OHIO ST, PITTSBURGH PA 15212       1  2018-03-14T19:46:10   \n",
       "4  7000 BLOCK LEMINGTON AVE, PITTSBURGH PA 15206       1  2018-03-14T23:49:22   \n",
       "\n",
       "  primary_unit  census_tract              neighborhood  council_district   \n",
       "0      231EN38        2509.0                  Fineview               6.0  \\\n",
       "1      231EN31        2808.0                 Fairywood               2.0   \n",
       "2      231EN24        1702.0          South Side Flats               3.0   \n",
       "3      231EN32        2204.0          Allegheny Center               1.0   \n",
       "4      231EN15        1203.0  Lincoln-Lemington-Belmar               9.0   \n",
       "\n",
       "   ward         tract  public_works_division  pli_division  police_zone   \n",
       "0  25.0  4.200325e+10                    1.0          25.0          1.0  \\\n",
       "1  28.0  4.200356e+10                    5.0          28.0          6.0   \n",
       "2  17.0  4.200317e+10                    4.0          17.0          3.0   \n",
       "3  22.0  4.200356e+10                    1.0          22.0          1.0   \n",
       "4  12.0  4.200312e+10                    2.0          12.0          5.0   \n",
       "\n",
       "  fire_zone   latitude  longitude  \n",
       "0      1-10  40.460303 -80.006980  \n",
       "1      1-16  40.449009 -80.076607  \n",
       "2       4-2  40.428618 -79.992239  \n",
       "3       1-6  40.453022 -80.003660  \n",
       "4      3-18  40.471358 -79.898240  "
      ]
     },
     "execution_count": 4,
     "metadata": {},
     "output_type": "execute_result"
    }
   ],
   "source": [
    "fires = fires.dropna(subset=['neighborhood'], ignore_index=True)\n",
    "fires.head(5)"
   ]
  },
  {
   "cell_type": "markdown",
   "id": "ad88d62d-b799-4f8d-b57f-0e1fef3f6d30",
   "metadata": {},
   "source": [
    "Upon looking at other columns, `type_description` seems like it may be of some use. There may be small, contained fires that aren't really a threat to our house. Let's take a look and see what types of fires are listed and reported."
   ]
  },
  {
   "cell_type": "code",
   "execution_count": 5,
   "id": "4eb040dc-f83d-412e-9bfa-9ebeac1b1903",
   "metadata": {},
   "outputs": [
    {
     "data": {
      "text/plain": [
       "type_description\n",
       "Cooking fire, confined to container                   1952\n",
       "Building fire                                         1825\n",
       "Passenger vehicle fire                                 918\n",
       "Outside rubbish, trash or waste fire                   712\n",
       "Brush or brush-and-grass mixture fire                  517\n",
       "Outside rubbish fire, Other                            511\n",
       "Dumpster or other outside trash receptacle fire        415\n",
       "Trash or rubbish fire, contained                       397\n",
       "Natural vegetation fire, Other                         247\n",
       "Special outside fire, Other                            216\n",
       "Mobile property (vehicle) fire, Other                  173\n",
       "Fire, Other                                            143\n",
       "Fires in structure other than in a building            136\n",
       "Grass fire                                             120\n",
       "Outside equipment fire                                  67\n",
       "Fuel burner/boiler malfunction, fire confined           55\n",
       "Chimney or flue fire, confined to chimney or flue       46\n",
       "Road freight or transport vehicle fire                  44\n",
       "Forest, woods or wildland fire                          32\n",
       "Construction or demolition landfill fire                19\n",
       "Outside storage fire                                    18\n",
       "Outside stationary compactor/compacted trash fire       13\n",
       "Off-road vehicle or heavy equipment fire                13\n",
       "Commercial Compactor fire, confined to rubbish          12\n",
       "Fire in portable building, fixed location               11\n",
       "Water vehicle fire                                       7\n",
       "Cultivated vegetation, crop fire, Other                  7\n",
       "Incinerator overload or malfunction, fire confined       7\n",
       "Garbage dump or sanitary landfill fire                   5\n",
       "Fire in motor home, camper, recreational vehicle         4\n",
       "Fire in mobile home used as fixed residence              4\n",
       "Fire in mobile prop used as a fixed struc, Other         4\n",
       "Outside mailbox fire                                     4\n",
       "Outside gas or vapor combustion explosion                3\n",
       "Cultivated trees or nursery stock fire                   3\n",
       "Rail vehicle fire                                        2\n",
       "Camper or recreational vehicle (RV) fire                 2\n",
       "Cultivated grain or crop fire                            1\n",
       "Self-propelled motor home or recreational vehicle        1\n",
       "Structure fire, Other (conversion only)                  1\n",
       "Name: type_description, dtype: int64"
      ]
     },
     "execution_count": 5,
     "metadata": {},
     "output_type": "execute_result"
    }
   ],
   "source": [
    "fires.groupby('type_description')['type_description'].count().sort_values(ascending=False)"
   ]
  },
  {
   "cell_type": "markdown",
   "id": "535f619a-f240-45c3-a9fb-8a14295accd0",
   "metadata": {},
   "source": [
    "It does seem that there are some fires we shouldn't really care about, to simplicity, we can just remove all the fires with \"confined\" in the description."
   ]
  },
  {
   "cell_type": "code",
   "execution_count": 6,
   "id": "45a98ff2-2d05-4f6e-8de7-d5e66315efa2",
   "metadata": {},
   "outputs": [],
   "source": [
    "fires = fires[~fires['type_description'].str.contains('confined')]\n",
    "fires = fires.reset_index()"
   ]
  },
  {
   "cell_type": "markdown",
   "id": "b5b9b7ee-949d-480d-bbbb-4deaecab4ab6",
   "metadata": {},
   "source": [
    "Because Pittsburgh is included in the address, lets just make sure that it is included in every address, and we can see that 8 addresses were removed due to not being in Pittsburgh. "
   ]
  },
  {
   "cell_type": "code",
   "execution_count": 7,
   "id": "5124fea9-2f99-4074-a872-e1d8d6f50957",
   "metadata": {},
   "outputs": [
    {
     "name": "stdout",
     "output_type": "stream",
     "text": [
      "Before address removal 6595\n",
      "After address removal 6587\n"
     ]
    }
   ],
   "source": [
    "print('Before address removal', len(fires))\n",
    "fires = fires[fires['address'].str.contains('PITTSBURGH')]\n",
    "fires = fires.reset_index()\n",
    "print('After address removal', len(fires))"
   ]
  },
  {
   "cell_type": "markdown",
   "id": "074d0625-6fbd-4eea-bbe6-d5fd2dfc3aaa",
   "metadata": {},
   "source": [
    "Finally, let's look at the data for fire incidents per neighborhood. We can visualize this as a bar chart of the ten safest neighborhoods."
   ]
  },
  {
   "cell_type": "code",
   "execution_count": 8,
   "id": "45374478-3128-422e-92a7-02163296e01c",
   "metadata": {},
   "outputs": [
    {
     "data": {
      "image/png": "[encoded data removed]",
      "text/plain": [
       "<Figure size 640x480 with 1 Axes>"
      ]
     },
     "metadata": {},
     "output_type": "display_data"
    }
   ],
   "source": [
    "neighborhood_incidents = fires.groupby('neighborhood')['neighborhood'].count().sort_values()\n",
    "selection = neighborhood_incidents[:10]\n",
    "plt.bar(selection.index, selection, color='red')\n",
    "plt.xticks(rotation=90)\n",
    "plt.show()"
   ]
  },
  {
   "cell_type": "markdown",
   "id": "991442c7-012d-4963-8eca-e9beb6683499",
   "metadata": {},
   "source": [
    "We can see here that the safest neighborhoods from fire are\n",
    "1. Glen Hazel (5)\n",
    "2. Regent Square (5)\n",
    "3. Mount Oliver Borough (6)\n",
    "4. Arlington Heights (6)\n",
    "5. East Carnegie (7)"
   ]
  },
  {
   "cell_type": "markdown",
   "id": "5b05f9a0-3c83-4162-a3f0-b04e13093359",
   "metadata": {},
   "source": [
    "## Speed Humps\n",
    "\n",
    "The Pittsburgh speed hump location dataset can give us information about the amount of speed humps in each neighborhood. This information can be used to figure out which neighborhood is best for avoiding natural disasters. This is because the more speed humps in a area means traffic flows more slowly, thus making it harder to escape natural disasters.  "
   ]
  },
  {
   "cell_type": "markdown",
   "id": "245fc9e0-d4c0-4bfc-a584-45f9229282c6",
   "metadata": {},
   "source": [
    "### Analysis of the speed humps dataset \n",
    "\n",
    "We first start by loading the dataset and getting everything set up for data analysis. "
   ]
  },
  {
   "cell_type": "code",
   "execution_count": 9,
   "id": "eb3469ff-b9be-46b4-ad7b-c94abf3059f3",
   "metadata": {},
   "outputs": [],
   "source": [
    "humps = pd.read_csv(\"https://data.wprdc.org/datastore/dump/37b2ac41-ae8e-4de1-8405-157e05dc3640\")"
   ]
  },
  {
   "cell_type": "markdown",
   "id": "f0b870c2-4dc1-4e10-99e4-30e932ad3d03",
   "metadata": {},
   "source": [
    "After loading and getting everything set up, let's take a glance at what we're working with "
   ]
  },
  {
   "cell_type": "code",
   "execution_count": 10,
   "id": "61b7f695-52c4-4bc6-acfd-1583cf45d97a",
   "metadata": {},
   "outputs": [
    {
     "data": {
      "text/html": [
       "<div>\n",
       "<style scoped>\n",
       "    .dataframe tbody tr th:only-of-type {\n",
       "        vertical-align: middle;\n",
       "    }\n",
       "\n",
       "    .dataframe tbody tr th {\n",
       "        vertical-align: top;\n",
       "    }\n",
       "\n",
       "    .dataframe thead th {\n",
       "        text-align: right;\n",
       "    }\n",
       "</style>\n",
       "<table border=\"1\" class=\"dataframe\">\n",
       "  <thead>\n",
       "    <tr style=\"text-align: right;\">\n",
       "      <th></th>\n",
       "      <th>_id</th>\n",
       "      <th>id</th>\n",
       "      <th>hump_id</th>\n",
       "      <th>locator_address_number</th>\n",
       "      <th>locator_street</th>\n",
       "      <th>pavement</th>\n",
       "      <th>speed_hump_material</th>\n",
       "      <th>neighborhood</th>\n",
       "      <th>council_district</th>\n",
       "      <th>ward</th>\n",
       "      <th>tract</th>\n",
       "      <th>public_works_division</th>\n",
       "      <th>pli_division</th>\n",
       "      <th>police_zone</th>\n",
       "      <th>fire_zone</th>\n",
       "      <th>latitude</th>\n",
       "      <th>longitude</th>\n",
       "    </tr>\n",
       "  </thead>\n",
       "  <tbody>\n",
       "    <tr>\n",
       "      <th>0</th>\n",
       "      <td>1</td>\n",
       "      <td>430808404</td>\n",
       "      <td>1</td>\n",
       "      <td>4337.0</td>\n",
       "      <td>Saline St</td>\n",
       "      <td>9257</td>\n",
       "      <td>Asphalt</td>\n",
       "      <td>Squirrel Hill South</td>\n",
       "      <td>5</td>\n",
       "      <td>14</td>\n",
       "      <td>42003141400</td>\n",
       "      <td>3</td>\n",
       "      <td>14</td>\n",
       "      <td>4</td>\n",
       "      <td>2-15</td>\n",
       "      <td>40.419835</td>\n",
       "      <td>-79.926062</td>\n",
       "    </tr>\n",
       "    <tr>\n",
       "      <th>1</th>\n",
       "      <td>34</td>\n",
       "      <td>1520886592</td>\n",
       "      <td>2</td>\n",
       "      <td>NaN</td>\n",
       "      <td>Summerset Dr</td>\n",
       "      <td>15346</td>\n",
       "      <td>NaN</td>\n",
       "      <td>Squirrel Hill South</td>\n",
       "      <td>5</td>\n",
       "      <td>14</td>\n",
       "      <td>42003141400</td>\n",
       "      <td>3</td>\n",
       "      <td>14</td>\n",
       "      <td>4</td>\n",
       "      <td>2-20</td>\n",
       "      <td>40.425040</td>\n",
       "      <td>-79.912040</td>\n",
       "    </tr>\n",
       "    <tr>\n",
       "      <th>2</th>\n",
       "      <td>67</td>\n",
       "      <td>858537521</td>\n",
       "      <td>3</td>\n",
       "      <td>511.0</td>\n",
       "      <td>Gold Way</td>\n",
       "      <td>1755</td>\n",
       "      <td>Asphalt</td>\n",
       "      <td>North Oakland</td>\n",
       "      <td>6</td>\n",
       "      <td>5</td>\n",
       "      <td>42003562000</td>\n",
       "      <td>3</td>\n",
       "      <td>5</td>\n",
       "      <td>4</td>\n",
       "      <td>2-23</td>\n",
       "      <td>40.456746</td>\n",
       "      <td>-79.954521</td>\n",
       "    </tr>\n",
       "    <tr>\n",
       "      <th>3</th>\n",
       "      <td>68</td>\n",
       "      <td>297775878</td>\n",
       "      <td>4</td>\n",
       "      <td>547.0</td>\n",
       "      <td>Gold Way</td>\n",
       "      <td>1755</td>\n",
       "      <td>Asphalt</td>\n",
       "      <td>North Oakland</td>\n",
       "      <td>6</td>\n",
       "      <td>5</td>\n",
       "      <td>42003562000</td>\n",
       "      <td>3</td>\n",
       "      <td>5</td>\n",
       "      <td>4</td>\n",
       "      <td>2-23</td>\n",
       "      <td>40.457333</td>\n",
       "      <td>-79.954899</td>\n",
       "    </tr>\n",
       "    <tr>\n",
       "      <th>4</th>\n",
       "      <td>69</td>\n",
       "      <td>1061197751</td>\n",
       "      <td>5</td>\n",
       "      <td>593.0</td>\n",
       "      <td>Gold Way</td>\n",
       "      <td>1755</td>\n",
       "      <td>Asphalt</td>\n",
       "      <td>North Oakland</td>\n",
       "      <td>6</td>\n",
       "      <td>5</td>\n",
       "      <td>42003562000</td>\n",
       "      <td>3</td>\n",
       "      <td>5</td>\n",
       "      <td>4</td>\n",
       "      <td>2-23</td>\n",
       "      <td>40.458061</td>\n",
       "      <td>-79.955355</td>\n",
       "    </tr>\n",
       "  </tbody>\n",
       "</table>\n",
       "</div>"
      ],
      "text/plain": [
       "   _id          id  hump_id  locator_address_number locator_street  pavement   \n",
       "0    1   430808404        1                  4337.0      Saline St      9257  \\\n",
       "1   34  1520886592        2                     NaN   Summerset Dr     15346   \n",
       "2   67   858537521        3                   511.0       Gold Way      1755   \n",
       "3   68   297775878        4                   547.0       Gold Way      1755   \n",
       "4   69  1061197751        5                   593.0       Gold Way      1755   \n",
       "\n",
       "  speed_hump_material         neighborhood  council_district  ward   \n",
       "0             Asphalt  Squirrel Hill South                 5    14  \\\n",
       "1                 NaN  Squirrel Hill South                 5    14   \n",
       "2             Asphalt        North Oakland                 6     5   \n",
       "3             Asphalt        North Oakland                 6     5   \n",
       "4             Asphalt        North Oakland                 6     5   \n",
       "\n",
       "         tract  public_works_division  pli_division  police_zone fire_zone   \n",
       "0  42003141400                      3            14            4      2-15  \\\n",
       "1  42003141400                      3            14            4      2-20   \n",
       "2  42003562000                      3             5            4      2-23   \n",
       "3  42003562000                      3             5            4      2-23   \n",
       "4  42003562000                      3             5            4      2-23   \n",
       "\n",
       "    latitude  longitude  \n",
       "0  40.419835 -79.926062  \n",
       "1  40.425040 -79.912040  \n",
       "2  40.456746 -79.954521  \n",
       "3  40.457333 -79.954899  \n",
       "4  40.458061 -79.955355  "
      ]
     },
     "execution_count": 10,
     "metadata": {},
     "output_type": "execute_result"
    }
   ],
   "source": [
    "humps.head(5)"
   ]
  },
  {
   "cell_type": "markdown",
   "id": "c98c77d1-1a0a-4d3f-8651-cc056a682092",
   "metadata": {},
   "source": [
    "This dataset provides a lot of information and has a lot of column that we don't really need to know about. Let's sort this by neighborhood and how many humps there are in each neighborhood. "
   ]
  },
  {
   "cell_type": "code",
   "execution_count": 11,
   "id": "a51aa3db-549d-4933-9742-f9c2a40e65f8",
   "metadata": {},
   "outputs": [
    {
     "name": "stdout",
     "output_type": "stream",
     "text": [
      "           neighborhood  hump_id\n",
      "0            Bloomfield        3\n",
      "1             Brookline        4\n",
      "2               Carrick        9\n",
      "3       Central Oakland        1\n",
      "4              Garfield        3\n",
      "5         Highland Park        2\n",
      "6        Homewood South        4\n",
      "7      Mount Washington        3\n",
      "8         North Oakland        6\n",
      "9             Overbrook        1\n",
      "10          Perry North        4\n",
      "11          Polish Hill        6\n",
      "12     South Side Flats        3\n",
      "13    South Side Slopes        4\n",
      "14  Squirrel Hill North        3\n",
      "15  Squirrel Hill South       18\n",
      "16      Stanton Heights        1\n",
      "17           Upper Hill        4\n"
     ]
    }
   ],
   "source": [
    "humps_count  = humps.groupby('neighborhood')['hump_id'].count().reset_index()\n",
    "print(humps_count) "
   ]
  },
  {
   "cell_type": "markdown",
   "id": "1268ea9b-9cf1-4491-8796-240857dbfde0",
   "metadata": {},
   "source": [
    "Okay good, now this is data that is more specific to what we need. Let's change the name of hump_id to count and orangize it to better reflect what it represents now. \n"
   ]
  },
  {
   "cell_type": "code",
   "execution_count": 12,
   "id": "7e1c74c1-25d2-4596-8faa-af36e7e95be2",
   "metadata": {},
   "outputs": [
    {
     "name": "stdout",
     "output_type": "stream",
     "text": [
      "           neighborhood  count\n",
      "3       Central Oakland      1\n",
      "16      Stanton Heights      1\n",
      "9             Overbrook      1\n",
      "5         Highland Park      2\n",
      "0            Bloomfield      3\n",
      "14  Squirrel Hill North      3\n",
      "4              Garfield      3\n",
      "12     South Side Flats      3\n",
      "7      Mount Washington      3\n",
      "13    South Side Slopes      4\n",
      "17           Upper Hill      4\n",
      "6        Homewood South      4\n",
      "1             Brookline      4\n",
      "10          Perry North      4\n",
      "11          Polish Hill      6\n",
      "8         North Oakland      6\n",
      "2               Carrick      9\n",
      "15  Squirrel Hill South     18\n"
     ]
    }
   ],
   "source": [
    "humps_count = humps_count.rename(columns={'hump_id': 'count'}) \n",
    "humps_count = humps_count.sort_values(by='count', ascending=True)\n",
    "\n",
    "print(humps_count)"
   ]
  },
  {
   "cell_type": "markdown",
   "id": "590828f9-15d7-4918-82af-f9207cc3df65",
   "metadata": {},
   "source": [
    "Let's visualize this on a bar graph. "
   ]
  },
  {
   "cell_type": "code",
   "execution_count": 13,
   "id": "92b1f38c-8669-43b8-9a01-ada004e8457d",
   "metadata": {},
   "outputs": [
    {
     "data": {
      "image/png": "[encoded data removed]",
      "text/plain": [
       "<Figure size 1000x500 with 1 Axes>"
      ]
     },
     "metadata": {},
     "output_type": "display_data"
    }
   ],
   "source": [
    "plt.figure(figsize=(10, 5))\n",
    "plt.bar(humps_count['neighborhood'], humps_count['count'], color='orange')\n",
    "plt.xticks(rotation=90)\n",
    "plt.show() "
   ]
  },
  {
   "cell_type": "markdown",
   "id": "cf173cf2-e60d-45c8-a077-54f36955ef74",
   "metadata": {},
   "source": [
    "##  Conclusion \n",
    "\n",
    "\n",
    "As we can see from the graph, the top 5 neighbhorhood with the lowest amount of speed humps are the following: \n",
    "1. Overbrook (1)\n",
    "2. Central Oakland (1)\n",
    "3. Stantion heights (1) \n",
    "4. Highland Park (2)\n",
    "5. Garfield (3)"
   ]
  },
  {
   "cell_type": "markdown",
   "id": "a032b323-f2a1-4781-add4-7f436725bc7a",
   "metadata": {},
   "source": [
    "# Water Toxin Releases in Pittsburgh"
   ]
  },
  {
   "cell_type": "markdown",
   "id": "71a85de6-e863-4e2a-be55-d03cb2091272",
   "metadata": {},
   "source": [
    "The WPRDC Toxic Releases in water provides a dataset that lets you see the total release of chemicals per lb into the water by different facilities. This information allows you to determine what neighborhoods has cleanest water with the least pollutants. It also helps you identify the neighborhoods with high amounts of toxic releases, making sure you avoid drinking water from them. "
   ]
  },
  {
   "cell_type": "markdown",
   "id": "84e860ce-c963-498c-addd-23dd29383385",
   "metadata": {},
   "source": [
    "Start by reading in the data "
   ]
  },
  {
   "cell_type": "code",
   "execution_count": 14,
   "id": "a0094336-6dce-4bb6-9959-5c4f2de5812b",
   "metadata": {},
   "outputs": [],
   "source": [
    "watertoxdata = pd.read_csv(\"https://data.wprdc.org/datastore/dump/c9baaa77-2dc5-494c-a2ce-f90db9106df2\")"
   ]
  },
  {
   "cell_type": "markdown",
   "id": "0f016ec9-5faa-4e0d-ac10-35483b7b936a",
   "metadata": {},
   "source": [
    "Dataset is for Alleghany County, so we first sort out everything besides the city of Pittsburgh. We also sort out all the columns that are relevant. "
   ]
  },
  {
   "cell_type": "code",
   "execution_count": 15,
   "id": "4a9a152a-8b15-4d5c-bca1-ead281070bd9",
   "metadata": {},
   "outputs": [
    {
     "data": {
      "text/html": [
       "<div>\n",
       "<style scoped>\n",
       "    .dataframe tbody tr th:only-of-type {\n",
       "        vertical-align: middle;\n",
       "    }\n",
       "\n",
       "    .dataframe tbody tr th {\n",
       "        vertical-align: top;\n",
       "    }\n",
       "\n",
       "    .dataframe thead th {\n",
       "        text-align: right;\n",
       "    }\n",
       "</style>\n",
       "<table border=\"1\" class=\"dataframe\">\n",
       "  <thead>\n",
       "    <tr style=\"text-align: right;\">\n",
       "      <th></th>\n",
       "      <th>FACILITY_NAME</th>\n",
       "      <th>STREET_ADDRESS</th>\n",
       "      <th>CITY_NAME</th>\n",
       "      <th>ZIP_CODE</th>\n",
       "      <th>CHEM_NAME</th>\n",
       "      <th>CARCINOGEN</th>\n",
       "      <th>CLEAN_AIR</th>\n",
       "      <th>TOTAL_RELEASE</th>\n",
       "    </tr>\n",
       "  </thead>\n",
       "  <tbody>\n",
       "    <tr>\n",
       "      <th>0</th>\n",
       "      <td>PRUETT-SCHAFFER CHEMICAL CO INC.</td>\n",
       "      <td>3327 STAFFORD ST</td>\n",
       "      <td>PITTSBURGH</td>\n",
       "      <td>15204</td>\n",
       "      <td>Xylene (mixed isomers)</td>\n",
       "      <td>N</td>\n",
       "      <td>Y</td>\n",
       "      <td>NaN</td>\n",
       "    </tr>\n",
       "    <tr>\n",
       "      <th>3</th>\n",
       "      <td>E.E. ZIMMERMAN CO</td>\n",
       "      <td>2020 KNOTT ST</td>\n",
       "      <td>PITTSBURGH</td>\n",
       "      <td>15233</td>\n",
       "      <td>Methyl ethyl ketone</td>\n",
       "      <td>N</td>\n",
       "      <td>N</td>\n",
       "      <td>NaN</td>\n",
       "    </tr>\n",
       "    <tr>\n",
       "      <th>4</th>\n",
       "      <td>E.E. ZIMMERMAN CO</td>\n",
       "      <td>2020 KNOTT ST</td>\n",
       "      <td>PITTSBURGH</td>\n",
       "      <td>15233</td>\n",
       "      <td>Methanol</td>\n",
       "      <td>N</td>\n",
       "      <td>Y</td>\n",
       "      <td>NaN</td>\n",
       "    </tr>\n",
       "    <tr>\n",
       "      <th>5</th>\n",
       "      <td>E.E. ZIMMERMAN CO</td>\n",
       "      <td>2020 KNOTT ST</td>\n",
       "      <td>PITTSBURGH</td>\n",
       "      <td>15233</td>\n",
       "      <td>1,2,4-Trimethylbenzene</td>\n",
       "      <td>N</td>\n",
       "      <td>N</td>\n",
       "      <td>NaN</td>\n",
       "    </tr>\n",
       "    <tr>\n",
       "      <th>6</th>\n",
       "      <td>E.E. ZIMMERMAN CO</td>\n",
       "      <td>2020 KNOTT ST</td>\n",
       "      <td>PITTSBURGH</td>\n",
       "      <td>15233</td>\n",
       "      <td>Toluene</td>\n",
       "      <td>N</td>\n",
       "      <td>Y</td>\n",
       "      <td>NaN</td>\n",
       "    </tr>\n",
       "  </tbody>\n",
       "</table>\n",
       "</div>"
      ],
      "text/plain": [
       "                      FACILITY_NAME    STREET_ADDRESS   CITY_NAME  ZIP_CODE   \n",
       "0  PRUETT-SCHAFFER CHEMICAL CO INC.  3327 STAFFORD ST  PITTSBURGH     15204  \\\n",
       "3                 E.E. ZIMMERMAN CO     2020 KNOTT ST  PITTSBURGH     15233   \n",
       "4                 E.E. ZIMMERMAN CO     2020 KNOTT ST  PITTSBURGH     15233   \n",
       "5                 E.E. ZIMMERMAN CO     2020 KNOTT ST  PITTSBURGH     15233   \n",
       "6                 E.E. ZIMMERMAN CO     2020 KNOTT ST  PITTSBURGH     15233   \n",
       "\n",
       "                CHEM_NAME CARCINOGEN CLEAN_AIR  TOTAL_RELEASE  \n",
       "0  Xylene (mixed isomers)          N         Y            NaN  \n",
       "3     Methyl ethyl ketone          N         N            NaN  \n",
       "4                Methanol          N         Y            NaN  \n",
       "5  1,2,4-Trimethylbenzene          N         N            NaN  \n",
       "6                 Toluene          N         Y            NaN  "
      ]
     },
     "execution_count": 15,
     "metadata": {},
     "output_type": "execute_result"
    }
   ],
   "source": [
    "filtered_data = watertoxdata[watertoxdata['CITY_NAME'].str.contains('PITTSBURGH', case=False, na=False)]\n",
    "columns_to_display = ['FACILITY_NAME', 'STREET_ADDRESS',  'CITY_NAME', 'ZIP_CODE', 'CHEM_NAME', 'CARCINOGEN', 'CLEAN_AIR', 'TOTAL_RELEASE']\n",
    "filtered_data[columns_to_display].head()"
   ]
  },
  {
   "cell_type": "markdown",
   "id": "86ebcbcd-00d5-403e-8dff-376b16777791",
   "metadata": {},
   "source": [
    "Here we sort the data and figure out the zip code with the highest total release of chemicals (per lb) into the water. The majority is from facilities in 15225 which encompasses the Neville Township. We also remove any rows that have a null total release value. A few zip codes that are identical but have extensions are also removed. "
   ]
  },
  {
   "cell_type": "code",
   "execution_count": 16,
   "id": "d7ee6fa4-bd38-4151-a30f-f287763523af",
   "metadata": {},
   "outputs": [
    {
     "data": {
      "text/html": [
       "<div>\n",
       "<style scoped>\n",
       "    .dataframe tbody tr th:only-of-type {\n",
       "        vertical-align: middle;\n",
       "    }\n",
       "\n",
       "    .dataframe tbody tr th {\n",
       "        vertical-align: top;\n",
       "    }\n",
       "\n",
       "    .dataframe thead th {\n",
       "        text-align: right;\n",
       "    }\n",
       "</style>\n",
       "<table border=\"1\" class=\"dataframe\">\n",
       "  <thead>\n",
       "    <tr style=\"text-align: right;\">\n",
       "      <th></th>\n",
       "      <th>FACILITY_NAME</th>\n",
       "      <th>STREET_ADDRESS</th>\n",
       "      <th>CITY_NAME</th>\n",
       "      <th>ZIP_CODE</th>\n",
       "      <th>CHEM_NAME</th>\n",
       "      <th>CARCINOGEN</th>\n",
       "      <th>CLEAN_AIR</th>\n",
       "      <th>TOTAL_RELEASE</th>\n",
       "    </tr>\n",
       "  </thead>\n",
       "  <tbody>\n",
       "    <tr>\n",
       "      <th>10330</th>\n",
       "      <td>SHENANGO INC</td>\n",
       "      <td>200 NEVILLE RD</td>\n",
       "      <td>PITTSBURGH</td>\n",
       "      <td>15225</td>\n",
       "      <td>Ammonia</td>\n",
       "      <td>N</td>\n",
       "      <td>N</td>\n",
       "      <td>197243.0</td>\n",
       "    </tr>\n",
       "    <tr>\n",
       "      <th>13890</th>\n",
       "      <td>SHENANGO INC</td>\n",
       "      <td>200 NEVILLE RD</td>\n",
       "      <td>PITTSBURGH</td>\n",
       "      <td>15225</td>\n",
       "      <td>Ammonia</td>\n",
       "      <td>N</td>\n",
       "      <td>N</td>\n",
       "      <td>160995.0</td>\n",
       "    </tr>\n",
       "    <tr>\n",
       "      <th>8662</th>\n",
       "      <td>LTV STEEL COMPANY INC PITTSBURGH WORKS</td>\n",
       "      <td>4650 SECOND AVENUE</td>\n",
       "      <td>PITTSBURGH</td>\n",
       "      <td>15207</td>\n",
       "      <td>Ammonia</td>\n",
       "      <td>N</td>\n",
       "      <td>N</td>\n",
       "      <td>150000.0</td>\n",
       "    </tr>\n",
       "    <tr>\n",
       "      <th>13488</th>\n",
       "      <td>SHENANGO INC</td>\n",
       "      <td>200 NEVILLE RD</td>\n",
       "      <td>PITTSBURGH</td>\n",
       "      <td>15225</td>\n",
       "      <td>Ammonia</td>\n",
       "      <td>N</td>\n",
       "      <td>N</td>\n",
       "      <td>132370.0</td>\n",
       "    </tr>\n",
       "    <tr>\n",
       "      <th>12201</th>\n",
       "      <td>SHENANGO INC</td>\n",
       "      <td>200 NEVILLE RD</td>\n",
       "      <td>PITTSBURGH</td>\n",
       "      <td>15225</td>\n",
       "      <td>Ammonia</td>\n",
       "      <td>N</td>\n",
       "      <td>N</td>\n",
       "      <td>92000.0</td>\n",
       "    </tr>\n",
       "  </tbody>\n",
       "</table>\n",
       "</div>"
      ],
      "text/plain": [
       "                                FACILITY_NAME      STREET_ADDRESS   CITY_NAME   \n",
       "10330                            SHENANGO INC      200 NEVILLE RD  PITTSBURGH  \\\n",
       "13890                            SHENANGO INC      200 NEVILLE RD  PITTSBURGH   \n",
       "8662   LTV STEEL COMPANY INC PITTSBURGH WORKS  4650 SECOND AVENUE  PITTSBURGH   \n",
       "13488                            SHENANGO INC      200 NEVILLE RD  PITTSBURGH   \n",
       "12201                            SHENANGO INC      200 NEVILLE RD  PITTSBURGH   \n",
       "\n",
       "       ZIP_CODE CHEM_NAME CARCINOGEN CLEAN_AIR  TOTAL_RELEASE  \n",
       "10330     15225   Ammonia          N         N       197243.0  \n",
       "13890     15225   Ammonia          N         N       160995.0  \n",
       "8662      15207   Ammonia          N         N       150000.0  \n",
       "13488     15225   Ammonia          N         N       132370.0  \n",
       "12201     15225   Ammonia          N         N        92000.0  "
      ]
     },
     "execution_count": 16,
     "metadata": {},
     "output_type": "execute_result"
    }
   ],
   "source": [
    "filtered_data = filtered_data.dropna(subset=['TOTAL_RELEASE'])\n",
    "\n",
    "filtered_data = filtered_data[filtered_data['ZIP_CODE'] != 152251516]\n",
    "filtered_data = filtered_data[filtered_data['ZIP_CODE'] != 152042599]\n",
    "filtered_data = filtered_data[filtered_data['ZIP_CODE'] != 152206246]\n",
    "filtered_data = filtered_data[filtered_data['ZIP_CODE'] != 152342624]\n",
    "\n",
    "\n",
    "filtered_data = filtered_data.sort_values(by='TOTAL_RELEASE', ascending=False)\n",
    "filtered_data[columns_to_display].head()\n"
   ]
  },
  {
   "cell_type": "markdown",
   "id": "45d16b78-098a-4514-b519-48067072c863",
   "metadata": {},
   "source": [
    "We group together the total releases of each zipcode to make the data more centralized. "
   ]
  },
  {
   "cell_type": "code",
   "execution_count": 17,
   "id": "e37cda24-495b-419a-af13-1c907d9a92f6",
   "metadata": {},
   "outputs": [],
   "source": [
    "zip_code_totals = filtered_data.groupby('ZIP_CODE')['TOTAL_RELEASE'].sum()"
   ]
  },
  {
   "cell_type": "markdown",
   "id": "08c23309-4542-4607-bbbe-9cbbd2612fc4",
   "metadata": {},
   "source": [
    "We find the zip codes with the most total releases (worst ones to live at)"
   ]
  },
  {
   "cell_type": "code",
   "execution_count": 18,
   "id": "db68d637-6999-4924-995c-c0b33f991c41",
   "metadata": {},
   "outputs": [
    {
     "data": {
      "text/plain": [
       "ZIP_CODE\n",
       "15225    1542450.60\n",
       "15207     771586.00\n",
       "15201     139734.71\n",
       "15236         48.00\n",
       "15226         21.00\n",
       "Name: TOTAL_RELEASE, dtype: float64"
      ]
     },
     "execution_count": 18,
     "metadata": {},
     "output_type": "execute_result"
    }
   ],
   "source": [
    "worst_zip_codes = zip_code_totals.sort_values(ascending=False).head(5)\n",
    "worst_zip_codes"
   ]
  },
  {
   "cell_type": "markdown",
   "id": "fd090b19-939f-4ead-ba4b-ec345ab37401",
   "metadata": {},
   "source": [
    "Here the zipcodes we replace the zipcodes with neighborhoods. The second line of code converts the keys in the zip_to_name dictionary to integers and keeps the corresponding values the same. This is needed as the zip codes cannot be used as an index without being integers.  "
   ]
  },
  {
   "cell_type": "code",
   "execution_count": 19,
   "id": "8be873ec-4f7b-4394-85c5-35d94454808b",
   "metadata": {},
   "outputs": [
    {
     "data": {
      "text/plain": [
       "ZIP_CODE\n",
       "15225                                                                                            1542450.60\n",
       "Greenfield, New Homestead, Lincoln Place, Glen Hazel, Hazelwood, Hays                             771586.00\n",
       "Central Lawrenceville, Lower Lawrenceville, Upper Lawrenceville, Stanton Heights, Polish Hill     139734.71\n",
       "Pleasant HIlls, South Park, Whitehall, Baldwin                                                        48.00\n",
       "Brookline, Overbrook, Beechview, Bon Air, Baldwin                                                     21.00\n",
       "Name: TOTAL_RELEASE, dtype: float64"
      ]
     },
     "execution_count": 19,
     "metadata": {},
     "output_type": "execute_result"
    }
   ],
   "source": [
    "zip_to_name = {\n",
    "    '15525': \"Neville\",\n",
    "    '15207': 'Greenfield, New Homestead, Lincoln Place, Glen Hazel, Hazelwood, Hays',\n",
    "    '15201': 'Central Lawrenceville, Lower Lawrenceville, Upper Lawrenceville, Stanton Heights, Polish Hill',\n",
    "    '15236': 'Pleasant HIlls, South Park, Whitehall, Baldwin',\n",
    "    '15226': 'Brookline, Overbrook, Beechview, Bon Air, Baldwin'\n",
    "}\n",
    "\n",
    "zip_to_name = {int(i): v for i, v in zip_to_name.items()}\n",
    "\n",
    "worst_neighborhoods = worst_zip_codes.rename(index=zip_to_name)\n",
    "\n",
    "worst_neighborhoods"
   ]
  },
  {
   "cell_type": "markdown",
   "id": "6a198497-7352-45e3-8267-400ab948264b",
   "metadata": {},
   "source": [
    "Now these are the best zipcodes with no releases into the water at all. "
   ]
  },
  {
   "cell_type": "code",
   "execution_count": 137,
   "id": "39125e14-facb-42f5-a4d2-08e9505380de",
   "metadata": {},
   "outputs": [
    {
     "data": {
      "text/plain": [
       "ZIP_CODE\n",
       "15204     0.0\n",
       "15219     0.0\n",
       "15233     0.0\n",
       "15275     0.0\n",
       "15226    21.0\n",
       "Name: TOTAL_RELEASE, dtype: float64"
      ]
     },
     "execution_count": 137,
     "metadata": {},
     "output_type": "execute_result"
    }
   ],
   "source": [
    "top_zip_codes = zip_code_totals.sort_values(ascending=True).head(5)\n",
    "top_zip_codes"
   ]
  },
  {
   "cell_type": "markdown",
   "id": "8ff39d41-c6fc-4e54-b0f5-1995f70d260a",
   "metadata": {},
   "source": [
    "Here we display them as neighboorhoods. "
   ]
  },
  {
   "cell_type": "code",
   "execution_count": 140,
   "id": "c1122faf-1ad6-4c96-a92e-44aa9cf092ef",
   "metadata": {},
   "outputs": [
    {
     "data": {
      "text/plain": [
       "ZIP_CODE\n",
       "Crafton Heights, Windgap, Chartiers, Sheraden, Esplen                           0.0\n",
       "Market Square, Cultural District, The Point, West Oakland, Crawford-Roberts     0.0\n",
       "Central Northside, Marshall-Shadeland, Allegheny West, Manchester               0.0\n",
       "North Fayette                                                                   0.0\n",
       "Brookline, Overbrook, Beechview, Bon Air, Baldwin                              21.0\n",
       "Name: TOTAL_RELEASE, dtype: float64"
      ]
     },
     "execution_count": 140,
     "metadata": {},
     "output_type": "execute_result"
    }
   ],
   "source": [
    "zip_name = {\n",
    "    '15204': 'Crafton Heights, Windgap, Chartiers, Sheraden, Esplen',\n",
    "    '15219': 'Market Square, Cultural District, The Point, West Oakland, Crawford-Roberts',\n",
    "    '15233': 'Central Northside, Marshall-Shadeland, Allegheny West, Manchester',\n",
    "    '15275': 'North Fayette',\n",
    "    '15226': 'Brookline, Overbrook, Beechview, Bon Air, Baldwin'\n",
    "}\n",
    "\n",
    "zip_name = {int(i): v for i, v in zip_name.items()}\n",
    "top_neighborhoods = top_zip_codes.rename(index=zip_name)\n",
    "top_neighborhoods"
   ]
  },
  {
   "cell_type": "markdown",
   "id": "2997ced9-e177-42d1-a58a-f201c8693127",
   "metadata": {},
   "source": [
    "This is the data visualized for most waste and least released toxins (Displayed as zipcodes to read easier)"
   ]
  },
  {
   "cell_type": "code",
   "execution_count": 177,
   "id": "1d4b623f-9a76-4c02-ab58-6b53e3a6b975",
   "metadata": {},
   "outputs": [
    {
     "data": {
      "image/png": "[encoded data removed]",
      "text/plain": [
       "<Figure size 500x500 with 1 Axes>"
      ]
     },
     "metadata": {},
     "output_type": "display_data"
    }
   ],
   "source": [
    "plt.figure(figsize=(5, 5))\n",
    "plt.bar(worst_zip_codes.index, worst_zip_codes.values, color = 'red')\n",
    "plt.xticks(rotation=90)\n",
    "plt.xlabel('Neighborhoods')\n",
    "plt.ylabel('Total Release')\n",
    "plt.title('Top 5 Worst ZIP Codes by total toxic release')\n",
    "plt.show() \n"
   ]
  },
  {
   "cell_type": "code",
   "execution_count": 181,
   "id": "d2944dae-8a1b-4374-90e3-e63c2702caa0",
   "metadata": {},
   "outputs": [
    {
     "data": {
      "image/png": "[encoded data removed]",
      "text/plain": [
       "<Figure size 500x500 with 1 Axes>"
      ]
     },
     "metadata": {},
     "output_type": "display_data"
    }
   ],
   "source": [
    "plt.figure(figsize=(5, 5))\n",
    "plt.bar(top_zip_codes.index, top_zip_codes.values, color = 'green')\n",
    "plt.xticks(rotation=90)\n",
    "plt.xlabel('Neighborhoods')\n",
    "plt.ylabel('Total Release')\n",
    "plt.title('Top 5 Best ZIP Codes by total toxic release')\n",
    "plt.show() \n"
   ]
  },
  {
   "cell_type": "markdown",
   "id": "5e5b2ca0-ad77-45c4-ad69-b6506c9cdf51",
   "metadata": {},
   "source": [
    "# Conclusion"
   ]
  },
  {
   "cell_type": "markdown",
   "id": "138b68a6-e546-4233-a3a0-e6399f5384f8",
   "metadata": {},
   "source": [
    "There are a couple of neighborhoods with zero toxic releases into the water so we're displaying them as zipcodes\n",
    "\n",
    "1. 15204 (0)\n",
    "2. 15219 (0)\n",
    "3. 15233 (0)\n",
    "4. 15275 (0)\n",
    "5. 15226 (21)"
   ]
  },
  {
   "cell_type": "markdown",
   "id": "d341ef21-c9a9-4f2e-b9fb-6c6faae9bc8a",
   "metadata": {},
   "source": [
    "# Combining The Metrics\n",
    "\n",
    "Because the water toxins dataset is grouped by zip code, simply doing a weighted merge of the dataframes becomes difficult. Luckily for us, water toxins levels are 0 in many top neighborhoods, so we can say for sure that our top neighborhood will have 0 pounds of toxins dumped into the water. We can start with these neighborhoods."
   ]
  },
  {
   "cell_type": "code",
   "execution_count": 41,
   "id": "f84f746e-6b4d-4268-8d30-d9a69259ffe5",
   "metadata": {},
   "outputs": [
    {
     "data": {
      "text/html": [
       "<div>\n",
       "<style scoped>\n",
       "    .dataframe tbody tr th:only-of-type {\n",
       "        vertical-align: middle;\n",
       "    }\n",
       "\n",
       "    .dataframe tbody tr th {\n",
       "        vertical-align: top;\n",
       "    }\n",
       "\n",
       "    .dataframe thead th {\n",
       "        text-align: right;\n",
       "    }\n",
       "</style>\n",
       "<table border=\"1\" class=\"dataframe\">\n",
       "  <thead>\n",
       "    <tr style=\"text-align: right;\">\n",
       "      <th></th>\n",
       "      <th>toxicity</th>\n",
       "      <th>fires</th>\n",
       "      <th>humps</th>\n",
       "    </tr>\n",
       "  </thead>\n",
       "  <tbody>\n",
       "    <tr>\n",
       "      <th>Crafton Heights</th>\n",
       "      <td>0.0</td>\n",
       "      <td>55.0</td>\n",
       "      <td>NaN</td>\n",
       "    </tr>\n",
       "    <tr>\n",
       "      <th>Windgap</th>\n",
       "      <td>0.0</td>\n",
       "      <td>21.0</td>\n",
       "      <td>NaN</td>\n",
       "    </tr>\n",
       "    <tr>\n",
       "      <th>Chartiers</th>\n",
       "      <td>0.0</td>\n",
       "      <td>NaN</td>\n",
       "      <td>NaN</td>\n",
       "    </tr>\n",
       "    <tr>\n",
       "      <th>Sheraden</th>\n",
       "      <td>0.0</td>\n",
       "      <td>137.0</td>\n",
       "      <td>NaN</td>\n",
       "    </tr>\n",
       "    <tr>\n",
       "      <th>Esplen</th>\n",
       "      <td>0.0</td>\n",
       "      <td>21.0</td>\n",
       "      <td>NaN</td>\n",
       "    </tr>\n",
       "    <tr>\n",
       "      <th>...</th>\n",
       "      <td>...</td>\n",
       "      <td>...</td>\n",
       "      <td>...</td>\n",
       "    </tr>\n",
       "    <tr>\n",
       "      <th>Mount Washington</th>\n",
       "      <td>NaN</td>\n",
       "      <td>195.0</td>\n",
       "      <td>3.0</td>\n",
       "    </tr>\n",
       "    <tr>\n",
       "      <th>Hazelwood</th>\n",
       "      <td>NaN</td>\n",
       "      <td>206.0</td>\n",
       "      <td>NaN</td>\n",
       "    </tr>\n",
       "    <tr>\n",
       "      <th>South Side Flats</th>\n",
       "      <td>NaN</td>\n",
       "      <td>216.0</td>\n",
       "      <td>3.0</td>\n",
       "    </tr>\n",
       "    <tr>\n",
       "      <th>Central Business District</th>\n",
       "      <td>NaN</td>\n",
       "      <td>221.0</td>\n",
       "      <td>NaN</td>\n",
       "    </tr>\n",
       "    <tr>\n",
       "      <th>Carrick</th>\n",
       "      <td>NaN</td>\n",
       "      <td>250.0</td>\n",
       "      <td>9.0</td>\n",
       "    </tr>\n",
       "  </tbody>\n",
       "</table>\n",
       "<p>96 rows × 3 columns</p>\n",
       "</div>"
      ],
      "text/plain": [
       "                           toxicity  fires  humps\n",
       "Crafton Heights                 0.0   55.0    NaN\n",
       "Windgap                         0.0   21.0    NaN\n",
       "Chartiers                       0.0    NaN    NaN\n",
       "Sheraden                        0.0  137.0    NaN\n",
       "Esplen                          0.0   21.0    NaN\n",
       "...                             ...    ...    ...\n",
       "Mount Washington                NaN  195.0    3.0\n",
       "Hazelwood                       NaN  206.0    NaN\n",
       "South Side Flats                NaN  216.0    3.0\n",
       "Central Business District       NaN  221.0    NaN\n",
       "Carrick                         NaN  250.0    9.0\n",
       "\n",
       "[96 rows x 3 columns]"
      ]
     },
     "execution_count": 41,
     "metadata": {},
     "output_type": "execute_result"
    }
   ],
   "source": [
    "no_toxins = [\n",
    "    'Crafton Heights',\n",
    "    'Windgap',\n",
    "    'Chartiers',\n",
    "    'Sheraden',\n",
    "    'Esplen',\n",
    "    'Market Square',\n",
    "    'Cultural District',\n",
    "    'The Point',\n",
    "    'West Oakland',\n",
    "    'Crawford-Roberts',\n",
    "    'Central Northside',\n",
    "    'Marshall-Shadeland',\n",
    "    'Allegheny West',\n",
    "    'Manchester',\n",
    "    'North Fayette',\n",
    "]\n",
    "no_toxins = pd.Series([0] * len(no_toxins), index=no_toxins)\n",
    "metrics = pd.concat([no_toxins, neighborhood_incidents, humps_count.set_index('neighborhood')], axis=1)\n",
    "metrics.columns = ['toxicity', 'fires', 'humps']\n",
    "metrics"
   ]
  },
  {
   "cell_type": "markdown",
   "id": "a350d63e-1607-4cb2-ae49-ab5619c6212c",
   "metadata": {},
   "source": [
    "Due to low amounts of data, we can concede that missing data from the humps dataset indicates 0 speed humps, as we have all the speed hump ids in the dataset."
   ]
  },
  {
   "cell_type": "code",
   "execution_count": 45,
   "id": "8922e8ec-69b6-44b3-957b-9d84e88c38a4",
   "metadata": {},
   "outputs": [],
   "source": [
    "metrics['humps'] = metrics['humps'].fillna(0)\n",
    "metrics = metrics.dropna()"
   ]
  },
  {
   "cell_type": "markdown",
   "id": "8ef2bf35-42af-473e-82b8-7a22e77b3d21",
   "metadata": {},
   "source": [
    "Because we only have data where the water toxin level is 0, we effectively already calculated it as part of the evaluation. Because fires are dangerous, they deserve more attention than speed humps, however, since speed humps are likely on important roads and fires can be far away, they should be elevated too. We ultimately decide to simply add the metrics since fires are so numerous but often remote and a single speedbump slows everyone down, which slows us down even more."
   ]
  },
  {
   "cell_type": "code",
   "execution_count": 50,
   "id": "9b126cac-d998-4557-ba11-894a5a00b127",
   "metadata": {},
   "outputs": [],
   "source": [
    "metrics.loc[:, 'combined'] = metrics['fires'] + metrics['humps']"
   ]
  },
  {
   "cell_type": "code",
   "execution_count": 51,
   "id": "f2a44f5b-5f91-48a1-98a6-45616d709143",
   "metadata": {},
   "outputs": [
    {
     "data": {
      "text/plain": [
       "Windgap                21.0\n",
       "Esplen                 21.0\n",
       "Allegheny West         38.0\n",
       "West Oakland           44.0\n",
       "Crafton Heights        55.0\n",
       "Manchester             63.0\n",
       "Crawford-Roberts       74.0\n",
       "Central Northside      86.0\n",
       "Marshall-Shadeland    122.0\n",
       "Sheraden              137.0\n",
       "Name: combined, dtype: float64"
      ]
     },
     "execution_count": 51,
     "metadata": {},
     "output_type": "execute_result"
    }
   ],
   "source": [
    "metrics['combined'].sort_values()"
   ]
  },
  {
   "cell_type": "markdown",
   "id": "61f38c84-dad6-40b4-b1bf-1780aab37475",
   "metadata": {},
   "source": [
    "The best neighborhood is Windgap!"
   ]
  },
  {
   "cell_type": "markdown",
   "id": "a4308bb4-1220-493b-a233-32d3d7414cfb",
   "metadata": {},
   "source": [
    "# Conclusion\n",
    "\n",
    "- Aidan: I personally have not spent much time there. It may be nice to go visit it and find some trails nearby to hike on. I wouldn't say that I had a favorite neighborhood in Pittsburgh before this. I live in Oakland right now, and I wouldn't say it's my favorite, although I am grateful for the college atmosphere."
   ]
  }
 ],
 "metadata": {
  "kernelspec": {
   "display_name": "Python 3 (ipykernel)",
   "language": "python",
   "name": "python3"
  },
  "language_info": {
   "codemirror_mode": {
    "name": "ipython",
    "version": 3
   },
   "file_extension": ".py",
   "mimetype": "text/x-python",
   "name": "python",
   "nbconvert_exporter": "python",
   "pygments_lexer": "ipython3",
   "version": "3.11.10"
  }
 },
 "nbformat": 4,
 "nbformat_minor": 5
}
