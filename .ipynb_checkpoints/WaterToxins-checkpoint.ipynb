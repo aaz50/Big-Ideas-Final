{
 "cells": [
  {
   "cell_type": "markdown",
   "id": "23bcc831-f0b5-4df5-8c77-22507d754761",
   "metadata": {},
   "source": [
    "# Water Toxin Releases in Pittsburgh"
   ]
  },
  {
   "cell_type": "markdown",
   "id": "59467c76-6b8f-4699-9f2d-ba4bd0cc0c54",
   "metadata": {},
   "source": [
    "The WPRDC Toxic Releases in water provides a dataset that lets you see the total release of chemicals per lb into the water by different facilities. This information allows you to determine what neighborhoods has cleanest water with the least pollutants. It also helps you identify the neighborhoods with high amounts of toxic releases, making sure you avoid drinking water from them. "
   ]
  },
  {
   "cell_type": "markdown",
   "id": "77d0d289-57db-4ae6-a0f0-1c4491b2413f",
   "metadata": {},
   "source": [
    "Start by importing pandas and reading in the data "
   ]
  },
  {
   "cell_type": "code",
   "execution_count": 117,
   "id": "f6bc50f3-647e-4d1a-a1d5-99b15ead91b2",
   "metadata": {},
   "outputs": [
    {
     "data": {
      "text/plain": [
       "<bound method NDFrame.head of     OBJECTID  fid_blockg statefp10 countyfp10 tractce10 blkgrpce10  \\\n",
       "0          1         233        42        003    140500          3   \n",
       "1          2         203        42        003    140100          3   \n",
       "2          3          86        42        003    101700          2   \n",
       "3          4         214        42        003    050900          1   \n",
       "4          5         173        42        003    300100          5   \n",
       "..       ...         ...       ...        ...       ...        ...   \n",
       "85        86         215        42        003    141000          1   \n",
       "86        87         211        42        003    051100          1   \n",
       "87        88         153        42        003    562600          2   \n",
       "88        89          16        42        003    170200          1   \n",
       "89        90          31        42        003    250900          2   \n",
       "\n",
       "         geoid10     namelsad10 mtfcc10 funcstat10  ...  created_us  \\\n",
       "0   420031405003  Block Group 3   G5030          S  ...         SDE   \n",
       "1   420031401003  Block Group 3   G5030          S  ...         SDE   \n",
       "2   420031017002  Block Group 2   G5030          S  ...         SDE   \n",
       "3   420030509001  Block Group 1   G5030          S  ...         SDE   \n",
       "4   420033001005  Block Group 5   G5030          S  ...         SDE   \n",
       "..           ...            ...     ...        ...  ...         ...   \n",
       "85  420031410001  Block Group 1   G5030          S  ...         SDE   \n",
       "86  420030511001  Block Group 1   G5030          S  ...         SDE   \n",
       "87  420035626002  Block Group 2   G5030          S  ...         SDE   \n",
       "88  420031702001  Block Group 1   G5030          S  ...         SDE   \n",
       "89  420032509002  Block Group 2   G5030          S  ...         SDE   \n",
       "\n",
       "    created_da last_edite  last_edi_1  temp  pghdb_sde_  \\\n",
       "0   2020-08-14        SDE  2020-08-14  None   7968760.0   \n",
       "1   2020-08-14        SDE  2020-08-14  None  34078712.0   \n",
       "2   2020-08-14        SDE  2020-08-14  None  12751163.0   \n",
       "3   2020-08-14        SDE  2020-08-14  None   4997335.5   \n",
       "4   2020-08-14        SDE  2020-08-14  None   8411048.0   \n",
       "..         ...        ...         ...   ...         ...   \n",
       "85  2020-08-14        SDE  2020-08-14  None   5362860.0   \n",
       "86  2020-08-14        SDE  2020-08-14  None   9529806.0   \n",
       "87  2020-08-14        SDE  2020-08-14  None  16904768.0   \n",
       "88  2020-08-14        SDE  2020-08-14  None  26083320.0   \n",
       "89  2020-08-14        SDE  2020-08-14  None   6958774.0   \n",
       "\n",
       "                                GlobalID    Shape__Are    Shape__Len  \\\n",
       "0   a642a6b6-a2a9-48d5-acf2-3e2ce87d4bc0  8.417067e+06  14181.728584   \n",
       "1   20d4605b-258e-441a-a57e-a28fdabb6d30  3.410837e+07  30326.819418   \n",
       "2   bf4065e7-c29c-48bd-b529-e7fd99077238  1.275115e+07  14577.426328   \n",
       "3   fed3fb32-0cd3-4556-aa41-17ee03b4fe41  4.897519e+06  13941.514356   \n",
       "4   8669d2f0-b886-4519-99d0-bb1015b592b0  8.353046e+06  12021.860516   \n",
       "..                                   ...           ...           ...   \n",
       "85  93ce438e-e3ec-410d-a7fd-619646e25dc3  5.470266e+06  15761.679800   \n",
       "86  2858633a-175e-459b-a4c9-9aac92bfe033  9.050536e+06  17830.507786   \n",
       "87  fbc3ab11-0429-476e-80fd-700f969b204a  1.689127e+07  21714.648283   \n",
       "88  39308990-70d5-4da6-b2a0-a5510f18e9b9  2.576841e+07  34700.371969   \n",
       "89  c4f5d2e1-bcd6-4207-bdea-1c369a80ba1d  6.927485e+06  12621.964862   \n",
       "\n",
       "                                             geometry  \n",
       "0   POLYGON ((1368776.881 416103.510, 1368896.146 ...  \n",
       "1   POLYGON ((1364415.483 412107.835, 1364443.307 ...  \n",
       "2   POLYGON ((1360545.145 422529.993, 1360587.544 ...  \n",
       "3   POLYGON ((1351889.105 416415.515, 1351902.109 ...  \n",
       "4   POLYGON ((1345380.681 403212.583, 1345366.107 ...  \n",
       "..                                                ...  \n",
       "85  POLYGON ((1370810.980 405896.824, 1370944.260 ...  \n",
       "86  POLYGON ((1353922.778 413907.679, 1353853.525 ...  \n",
       "87  POLYGON ((1332321.985 415286.245, 1332656.175 ...  \n",
       "88  POLYGON ((1348552.294 408313.766, 1348554.718 ...  \n",
       "89  POLYGON ((1342001.595 421382.341, 1342184.328 ...  \n",
       "\n",
       "[90 rows x 40 columns]>"
      ]
     },
     "execution_count": 117,
     "metadata": {},
     "output_type": "execute_result"
    }
   ],
   "source": [
    "import pandas as pd\n",
    "import matplotlib.pyplot as plt\n",
    "import geopandas as gpd\n",
    "%matplotlib inline\n",
    "\n",
    "watertoxdata = pd.read_csv(\"https://data.wprdc.org/datastore/dump/c9baaa77-2dc5-494c-a2ce-f90db9106df2\")\n",
    "neighborhoodfile = gpd.read_file(\"NeighborhoodMap/Neighborhoods_.shp\")\n",
    "neighborhood_to_zip = {\n",
    "    \"Neighborhood1\": \"15201\",\n",
    "    \"Neighborhood2\": \"15202\",\n",
    "    # Add other mappings\n",
    "}\n",
    "\n",
    "# Add a new ZIP column based on mapping\n",
    "neighborhoodfile['ZIP'] = neighborhoodfile['hood'].map(neighborhood_to_zip)"
   ]
  },
  {
   "cell_type": "markdown",
   "id": "45750c3d-8252-447d-80b4-ffa2f29c82f8",
   "metadata": {},
   "source": [
    "Dataset is for Alleghany County, so we first sort out everything besides the city of Pittsburgh. We also sort out all the columns that are relevant. "
   ]
  },
  {
   "cell_type": "code",
   "execution_count": null,
   "id": "b13ebc19-eb76-42e7-bec1-312ab9906f0e",
   "metadata": {},
   "outputs": [],
   "source": [
    "filtered_data = watertoxdata[watertoxdata['CITY_NAME'].str.contains('PITTSBURGH', case=False, na=False)]\n",
    "columns_to_display = ['FACILITY_NAME', 'STREET_ADDRESS',  'CITY_NAME', 'ZIP_CODE', 'CHEM_NAME', 'CARCINOGEN', 'CLEAN_AIR', 'TOTAL_RELEASE']\n",
    "filtered_data[columns_to_display].head()"
   ]
  },
  {
   "cell_type": "markdown",
   "id": "e68ceae3-dd3f-428a-b1ff-6603ba20e824",
   "metadata": {},
   "source": [
    "Here we sort the data and figure out the zip code with the highest total release of chemicals (per lb) into the water. The majority is from facilities in 15225 which encompasses the Neville Township. We also remove any rows that have a null total release value. A few zip codes that are identical but have extensions are also removed. "
   ]
  },
  {
   "cell_type": "code",
   "execution_count": null,
   "id": "9d6ec177-42d3-4f89-8cfd-0e80a15e50f9",
   "metadata": {},
   "outputs": [],
   "source": [
    "filtered_data = filtered_data.dropna(subset=['TOTAL_RELEASE'])\n",
    "\n",
    "filtered_data = filtered_data[filtered_data['ZIP_CODE'] != 152251516]\n",
    "filtered_data = filtered_data[filtered_data['ZIP_CODE'] != 152042599]\n",
    "filtered_data = filtered_data[filtered_data['ZIP_CODE'] != 152206246]\n",
    "filtered_data = filtered_data[filtered_data['ZIP_CODE'] != 152342624]\n",
    "\n",
    "\n",
    "filtered_data = filtered_data.sort_values(by='TOTAL_RELEASE', ascending=False)\n",
    "filtered_data[columns_to_display].head()\n"
   ]
  },
  {
   "cell_type": "markdown",
   "id": "12d3c76a-fbba-430c-a31f-550b046affe8",
   "metadata": {},
   "source": [
    "We group together the total releases of each zipcode to make the data more centralized. "
   ]
  },
  {
   "cell_type": "code",
   "execution_count": null,
   "id": "f117ed82-70f3-404c-b537-5bdbb3676508",
   "metadata": {},
   "outputs": [],
   "source": [
    "zip_code_totals = filtered_data.groupby('ZIP_CODE')['TOTAL_RELEASE'].sum()"
   ]
  },
  {
   "cell_type": "markdown",
   "id": "2d937629-61bb-45a2-bdbc-9d7dfb0a1145",
   "metadata": {},
   "source": [
    "We find the zip codes with the most total releases (worst ones to live at)"
   ]
  },
  {
   "cell_type": "code",
   "execution_count": 56,
   "id": "42effaa7-b847-4f50-b88b-754c5e59ceba",
   "metadata": {},
   "outputs": [
    {
     "data": {
      "text/plain": [
       "ZIP_CODE\n",
       "15225    1542450.60\n",
       "15207     771586.00\n",
       "15201     139734.71\n",
       "15236         48.00\n",
       "15226         21.00\n",
       "Name: TOTAL_RELEASE, dtype: float64"
      ]
     },
     "execution_count": 56,
     "metadata": {},
     "output_type": "execute_result"
    }
   ],
   "source": [
    "worst_zip_codes = zip_code_totals.sort_values(ascending=False).head(5)\n",
    "worst_zip_codes"
   ]
  },
  {
   "cell_type": "markdown",
   "id": "49e82ed6-a916-400c-a7ca-7e33a2077113",
   "metadata": {},
   "source": [
    "Here the zipcodes we replace the zipcodes with neighborhoods. The second line of code converts the keys in the zip_to_name dictionary to integers and keeps the corresponding values the same. This is needed as the zip codes cannot be used as an index without being integers.  "
   ]
  },
  {
   "cell_type": "code",
   "execution_count": 123,
   "id": "21c745f4-5528-4361-b5e3-66385fd3f933",
   "metadata": {},
   "outputs": [
    {
     "data": {
      "text/plain": [
       "ZIP_CODE\n",
       "Neville                                                                                          1542450.60\n",
       "Greenfield, New Homestead, Lincoln Place, Glen Hazel, Hazelwood, Hays                             771586.00\n",
       "Central Lawrenceville, Lower Lawrenceville, Upper Lawrenceville, Stanton Heights, Polish Hill     139734.71\n",
       "Pleasant HIlls, South Park, Whitehall, Baldwin                                                        48.00\n",
       "Brookline, Overbrook, Beechview, Bon Air, Baldwin                                                     21.00\n",
       "Name: TOTAL_RELEASE, dtype: float64"
      ]
     },
     "execution_count": 123,
     "metadata": {},
     "output_type": "execute_result"
    }
   ],
   "source": [
    "zip_to_name = {\n",
    "    '15225': \"Neville\",\n",
    "    '15207': 'Greenfield, New Homestead, Lincoln Place, Glen Hazel, Hazelwood, Hays',\n",
    "    '15201': 'Central Lawrenceville, Lower Lawrenceville, Upper Lawrenceville, Stanton Heights, Polish Hill',\n",
    "    '15236': 'Pleasant HIlls, South Park, Whitehall, Baldwin',\n",
    "    '15226': 'Brookline, Overbrook, Beechview, Bon Air, Baldwin'\n",
    "}\n",
    "\n",
    "zip_to_name = {int(i): v for i, v in zip_to_name.items()}\n",
    "\n",
    "worst_neighborhoods = worst_zip_codes.rename(index=zip_to_name)\n",
    "\n",
    "worst_neighborhoods"
   ]
  },
  {
   "cell_type": "markdown",
   "id": "45ad6a98-e973-4baa-b452-7442b6f5e8ed",
   "metadata": {},
   "source": [
    "Now these are the best zipcodes with no releases into the water at all. "
   ]
  },
  {
   "cell_type": "code",
   "execution_count": 92,
   "id": "2c7525bb-aba4-4e3b-904c-7cf177dd42b6",
   "metadata": {},
   "outputs": [
    {
     "data": {
      "text/plain": [
       "ZIP_CODE\n",
       "15204     0.0\n",
       "15219     0.0\n",
       "15233     0.0\n",
       "15275     0.0\n",
       "15226    21.0\n",
       "Name: TOTAL_RELEASE, dtype: float64"
      ]
     },
     "execution_count": 92,
     "metadata": {},
     "output_type": "execute_result"
    }
   ],
   "source": [
    "top_zip_codes = zip_code_totals.sort_values(ascending=True).head(5)\n",
    "top_zip_codes"
   ]
  },
  {
   "cell_type": "markdown",
   "id": "0d1b318c-9a2e-4437-84d7-61521b8eb7fd",
   "metadata": {},
   "source": [
    "Here we display them as neighboorhoods. "
   ]
  },
  {
   "cell_type": "code",
   "execution_count": 99,
   "id": "76ed2478-c7af-4e06-8435-f27c6d219e41",
   "metadata": {},
   "outputs": [
    {
     "data": {
      "text/plain": [
       "ZIP_CODE\n",
       "Crafton Heights, Windgap, Chartiers, Sheraden, Esplen                           0.0\n",
       "Market Square, Cultural District, The Point, West Oakland, Crawford-Roberts     0.0\n",
       "Central Northside, Marshall-Shadeland, Allegheny West, Manchester               0.0\n",
       "North Fayette                                                                   0.0\n",
       "Brookline, Overbrook, Beechview, Bon Air, Baldwin                              21.0\n",
       "Name: TOTAL_RELEASE, dtype: float64"
      ]
     },
     "execution_count": 99,
     "metadata": {},
     "output_type": "execute_result"
    }
   ],
   "source": [
    "zip_name = {\n",
    "    '15204': 'Crafton Heights, Windgap, Chartiers, Sheraden, Esplen',\n",
    "    '15219': 'Market Square, Cultural District, The Point, West Oakland, Crawford-Roberts',\n",
    "    '15233': 'Central Northside, Marshall-Shadeland, Allegheny West, Manchester',\n",
    "    '15275': 'North Fayette',\n",
    "    '15226': 'Brookline, Overbrook, Beechview, Bon Air, Baldwin'\n",
    "}\n",
    "\n",
    "zip_name = {int(i): v for i, v in zip_name.items()}\n",
    "top_neighborhoods = top_zip_codes.rename(index=zip_name)\n",
    "top_neighborhoods"
   ]
  },
  {
   "cell_type": "markdown",
   "id": "f59f4038-2171-49be-bd85-051361c77829",
   "metadata": {},
   "source": [
    "This is the data visualized for most waste and least released toxins (Displayed as zipcodes to read easier y axis is also limited so top 5 are visible)"
   ]
  },
  {
   "cell_type": "code",
   "execution_count": 102,
   "id": "ee3332c8-7b93-4e2c-a4ec-418a04b50f61",
   "metadata": {},
   "outputs": [
    {
     "data": {
      "image/png": "[encoded data removed]",
      "text/plain": [
       "<Figure size 500x500 with 1 Axes>"
      ]
     },
     "metadata": {},
     "output_type": "display_data"
    }
   ],
   "source": [
    "plt.figure(figsize=(5, 5))\n",
    "plt.bar(worst_zip_codes.index, worst_zip_codes.values, color = 'red')\n",
    "plt.xticks(rotation=90)\n",
    "plt.xlabel('Neighborhoods')\n",
    "plt.ylabel('Total Release')\n",
    "plt.title('Top 5 Worst ZIP Codes by total toxic release')\n",
    "plt.ylim(0,100)\n",
    "plt.show() \n"
   ]
  },
  {
   "cell_type": "markdown",
   "id": "cd2861b1-4e07-4bfd-af4a-b0601f15f396",
   "metadata": {},
   "source": [
    "The top 4 zip codes are all 0 so the graph doesn't "
   ]
  },
  {
   "cell_type": "code",
   "execution_count": 105,
   "id": "f34f13ba-3019-4c62-a286-d2e3db5e264a",
   "metadata": {},
   "outputs": [
    {
     "data": {
      "image/png": "[encoded data removed]",
      "text/plain": [
       "<Figure size 500x500 with 1 Axes>"
      ]
     },
     "metadata": {},
     "output_type": "display_data"
    }
   ],
   "source": [
    "plt.figure(figsize=(5, 5))\n",
    "plt.bar(top_zip_codes.index, top_zip_codes.values, color = 'green')\n",
    "plt.xticks(rotation=90)\n",
    "plt.xlabel('Neighborhoods')\n",
    "plt.ylabel('Total Release')\n",
    "plt.title('Top 5 Best ZIP Codes by total toxic release')\n",
    "plt.show() \n"
   ]
  },
  {
   "cell_type": "code",
   "execution_count": 107,
   "id": "364df043-05b2-44d3-a5c1-005b84c11b1c",
   "metadata": {},
   "outputs": [
    {
     "ename": "KeyError",
     "evalue": "'ZIP'",
     "output_type": "error",
     "traceback": [
      "\u001b[1;31m---------------------------------------------------------------------------\u001b[0m",
      "\u001b[1;31mKeyError\u001b[0m                                  Traceback (most recent call last)",
      "File \u001b[1;32m~\\Downloads\\UPITT 2024\\CMPINF10\\Anaconda3\\Lib\\site-packages\\pandas\\core\\indexes\\base.py:3805\u001b[0m, in \u001b[0;36mIndex.get_loc\u001b[1;34m(self, key)\u001b[0m\n\u001b[0;32m   3804\u001b[0m \u001b[38;5;28;01mtry\u001b[39;00m:\n\u001b[1;32m-> 3805\u001b[0m     \u001b[38;5;28;01mreturn\u001b[39;00m \u001b[38;5;28mself\u001b[39m\u001b[38;5;241m.\u001b[39m_engine\u001b[38;5;241m.\u001b[39mget_loc(casted_key)\n\u001b[0;32m   3806\u001b[0m \u001b[38;5;28;01mexcept\u001b[39;00m \u001b[38;5;167;01mKeyError\u001b[39;00m \u001b[38;5;28;01mas\u001b[39;00m err:\n",
      "File \u001b[1;32mindex.pyx:167\u001b[0m, in \u001b[0;36mpandas._libs.index.IndexEngine.get_loc\u001b[1;34m()\u001b[0m\n",
      "File \u001b[1;32mindex.pyx:196\u001b[0m, in \u001b[0;36mpandas._libs.index.IndexEngine.get_loc\u001b[1;34m()\u001b[0m\n",
      "File \u001b[1;32mpandas\\\\_libs\\\\hashtable_class_helper.pxi:7081\u001b[0m, in \u001b[0;36mpandas._libs.hashtable.PyObjectHashTable.get_item\u001b[1;34m()\u001b[0m\n",
      "File \u001b[1;32mpandas\\\\_libs\\\\hashtable_class_helper.pxi:7089\u001b[0m, in \u001b[0;36mpandas._libs.hashtable.PyObjectHashTable.get_item\u001b[1;34m()\u001b[0m\n",
      "\u001b[1;31mKeyError\u001b[0m: 'ZIP'",
      "\nThe above exception was the direct cause of the following exception:\n",
      "\u001b[1;31mKeyError\u001b[0m                                  Traceback (most recent call last)",
      "Cell \u001b[1;32mIn[107], line 1\u001b[0m\n\u001b[1;32m----> 1\u001b[0m neighborhoodfile[\u001b[38;5;124m'\u001b[39m\u001b[38;5;124mZIP\u001b[39m\u001b[38;5;124m'\u001b[39m] \u001b[38;5;241m=\u001b[39m neighborhoodfile[\u001b[38;5;124m'\u001b[39m\u001b[38;5;124mZIP\u001b[39m\u001b[38;5;124m'\u001b[39m]\u001b[38;5;241m.\u001b[39mastype(\u001b[38;5;28mstr\u001b[39m)\n\u001b[0;32m      2\u001b[0m heatmap_data \u001b[38;5;241m=\u001b[39m neighborhoodfile\u001b[38;5;241m.\u001b[39mmerge(worst_zip_codes, left_on\u001b[38;5;241m=\u001b[39m\u001b[38;5;124m'\u001b[39m\u001b[38;5;124mZIP\u001b[39m\u001b[38;5;124m'\u001b[39m, right_on\u001b[38;5;241m=\u001b[39m\u001b[38;5;124m'\u001b[39m\u001b[38;5;124mZIP\u001b[39m\u001b[38;5;124m'\u001b[39m, how\u001b[38;5;241m=\u001b[39m\u001b[38;5;124m'\u001b[39m\u001b[38;5;124mleft\u001b[39m\u001b[38;5;124m'\u001b[39m)\n",
      "File \u001b[1;32m~\\Downloads\\UPITT 2024\\CMPINF10\\Anaconda3\\Lib\\site-packages\\geopandas\\geodataframe.py:1474\u001b[0m, in \u001b[0;36mGeoDataFrame.__getitem__\u001b[1;34m(self, key)\u001b[0m\n\u001b[0;32m   1468\u001b[0m \u001b[38;5;28;01mdef\u001b[39;00m \u001b[38;5;21m__getitem__\u001b[39m(\u001b[38;5;28mself\u001b[39m, key):\n\u001b[0;32m   1469\u001b[0m \u001b[38;5;250m    \u001b[39m\u001b[38;5;124;03m\"\"\"\u001b[39;00m\n\u001b[0;32m   1470\u001b[0m \u001b[38;5;124;03m    If the result is a column containing only 'geometry', return a\u001b[39;00m\n\u001b[0;32m   1471\u001b[0m \u001b[38;5;124;03m    GeoSeries. If it's a DataFrame with any columns of GeometryDtype,\u001b[39;00m\n\u001b[0;32m   1472\u001b[0m \u001b[38;5;124;03m    return a GeoDataFrame.\u001b[39;00m\n\u001b[0;32m   1473\u001b[0m \u001b[38;5;124;03m    \"\"\"\u001b[39;00m\n\u001b[1;32m-> 1474\u001b[0m     result \u001b[38;5;241m=\u001b[39m \u001b[38;5;28msuper\u001b[39m()\u001b[38;5;241m.\u001b[39m\u001b[38;5;21m__getitem__\u001b[39m(key)\n\u001b[0;32m   1475\u001b[0m     \u001b[38;5;66;03m# Custom logic to avoid waiting for pandas GH51895\u001b[39;00m\n\u001b[0;32m   1476\u001b[0m     \u001b[38;5;66;03m# result is not geometry dtype for multi-indexes\u001b[39;00m\n\u001b[0;32m   1477\u001b[0m     \u001b[38;5;28;01mif\u001b[39;00m (\n\u001b[0;32m   1478\u001b[0m         pd\u001b[38;5;241m.\u001b[39mapi\u001b[38;5;241m.\u001b[39mtypes\u001b[38;5;241m.\u001b[39mis_scalar(key)\n\u001b[0;32m   1479\u001b[0m         \u001b[38;5;129;01mand\u001b[39;00m key \u001b[38;5;241m==\u001b[39m \u001b[38;5;124m\"\u001b[39m\u001b[38;5;124m\"\u001b[39m\n\u001b[1;32m   (...)\u001b[0m\n\u001b[0;32m   1482\u001b[0m         \u001b[38;5;129;01mand\u001b[39;00m \u001b[38;5;129;01mnot\u001b[39;00m is_geometry_type(result)\n\u001b[0;32m   1483\u001b[0m     ):\n",
      "File \u001b[1;32m~\\Downloads\\UPITT 2024\\CMPINF10\\Anaconda3\\Lib\\site-packages\\pandas\\core\\frame.py:4102\u001b[0m, in \u001b[0;36mDataFrame.__getitem__\u001b[1;34m(self, key)\u001b[0m\n\u001b[0;32m   4100\u001b[0m \u001b[38;5;28;01mif\u001b[39;00m \u001b[38;5;28mself\u001b[39m\u001b[38;5;241m.\u001b[39mcolumns\u001b[38;5;241m.\u001b[39mnlevels \u001b[38;5;241m>\u001b[39m \u001b[38;5;241m1\u001b[39m:\n\u001b[0;32m   4101\u001b[0m     \u001b[38;5;28;01mreturn\u001b[39;00m \u001b[38;5;28mself\u001b[39m\u001b[38;5;241m.\u001b[39m_getitem_multilevel(key)\n\u001b[1;32m-> 4102\u001b[0m indexer \u001b[38;5;241m=\u001b[39m \u001b[38;5;28mself\u001b[39m\u001b[38;5;241m.\u001b[39mcolumns\u001b[38;5;241m.\u001b[39mget_loc(key)\n\u001b[0;32m   4103\u001b[0m \u001b[38;5;28;01mif\u001b[39;00m is_integer(indexer):\n\u001b[0;32m   4104\u001b[0m     indexer \u001b[38;5;241m=\u001b[39m [indexer]\n",
      "File \u001b[1;32m~\\Downloads\\UPITT 2024\\CMPINF10\\Anaconda3\\Lib\\site-packages\\pandas\\core\\indexes\\base.py:3812\u001b[0m, in \u001b[0;36mIndex.get_loc\u001b[1;34m(self, key)\u001b[0m\n\u001b[0;32m   3807\u001b[0m     \u001b[38;5;28;01mif\u001b[39;00m \u001b[38;5;28misinstance\u001b[39m(casted_key, \u001b[38;5;28mslice\u001b[39m) \u001b[38;5;129;01mor\u001b[39;00m (\n\u001b[0;32m   3808\u001b[0m         \u001b[38;5;28misinstance\u001b[39m(casted_key, abc\u001b[38;5;241m.\u001b[39mIterable)\n\u001b[0;32m   3809\u001b[0m         \u001b[38;5;129;01mand\u001b[39;00m \u001b[38;5;28many\u001b[39m(\u001b[38;5;28misinstance\u001b[39m(x, \u001b[38;5;28mslice\u001b[39m) \u001b[38;5;28;01mfor\u001b[39;00m x \u001b[38;5;129;01min\u001b[39;00m casted_key)\n\u001b[0;32m   3810\u001b[0m     ):\n\u001b[0;32m   3811\u001b[0m         \u001b[38;5;28;01mraise\u001b[39;00m InvalidIndexError(key)\n\u001b[1;32m-> 3812\u001b[0m     \u001b[38;5;28;01mraise\u001b[39;00m \u001b[38;5;167;01mKeyError\u001b[39;00m(key) \u001b[38;5;28;01mfrom\u001b[39;00m \u001b[38;5;21;01merr\u001b[39;00m\n\u001b[0;32m   3813\u001b[0m \u001b[38;5;28;01mexcept\u001b[39;00m \u001b[38;5;167;01mTypeError\u001b[39;00m:\n\u001b[0;32m   3814\u001b[0m     \u001b[38;5;66;03m# If we have a listlike key, _check_indexing_error will raise\u001b[39;00m\n\u001b[0;32m   3815\u001b[0m     \u001b[38;5;66;03m#  InvalidIndexError. Otherwise we fall through and re-raise\u001b[39;00m\n\u001b[0;32m   3816\u001b[0m     \u001b[38;5;66;03m#  the TypeError.\u001b[39;00m\n\u001b[0;32m   3817\u001b[0m     \u001b[38;5;28mself\u001b[39m\u001b[38;5;241m.\u001b[39m_check_indexing_error(key)\n",
      "\u001b[1;31mKeyError\u001b[0m: 'ZIP'"
     ]
    }
   ],
   "source": [
    "neighborhoodfile['ZIP'] = neighborhoodfile['ZIP'].astype(str)\n",
    "heatmap_data = neighborhoodfile.merge(worst_zip_codes, left_on='ZIP', right_on='ZIP', how='left')"
   ]
  },
  {
   "cell_type": "markdown",
   "id": "173daf86-3a67-409c-91ee-cd7a1ed716cd",
   "metadata": {},
   "source": [
    "# Conclusion"
   ]
  },
  {
   "cell_type": "markdown",
   "id": "54c8af29-8685-4460-bd99-d421c8f82079",
   "metadata": {},
   "source": [
    "There are a couple of neighborhoods with zero toxic releases into the water so we're displaying them as zipcodes\n",
    "\n",
    "1. 15204 (0)\n",
    "2. 15219 (0)\n",
    "3. 15233 (0)\n",
    "4. 15275 (0)\n",
    "5. 15226 (21)"
   ]
  },
  {
   "cell_type": "code",
   "execution_count": null,
   "id": "3503b6bd-cd3e-415f-a834-ae7b6a5e80e3",
   "metadata": {},
   "outputs": [],
   "source": []
  }
 ],
 "metadata": {
  "kernelspec": {
   "display_name": "Python 3 (ipykernel)",
   "language": "python",
   "name": "python3"
  },
  "language_info": {
   "codemirror_mode": {
    "name": "ipython",
    "version": 3
   },
   "file_extension": ".py",
   "mimetype": "text/x-python",
   "name": "python",
   "nbconvert_exporter": "python",
   "pygments_lexer": "ipython3",
   "version": "3.12.4"
  }
 },
 "nbformat": 4,
 "nbformat_minor": 5
}
